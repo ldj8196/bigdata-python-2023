{
 "cells": [
  {
   "attachments": {},
   "cell_type": "markdown",
   "metadata": {},
   "source": [
    "#### 수집 데이터 전처리\n",
    "\n",
    "##### 전처리용 모듈 임포트"
   ]
  },
  {
   "cell_type": "code",
   "execution_count": 4,
   "metadata": {},
   "outputs": [],
   "source": [
    "import pandas as pd\n",
    "import numpy as np"
   ]
  },
  {
   "cell_type": "code",
   "execution_count": 5,
   "metadata": {},
   "outputs": [
    {
     "data": {
      "text/html": [
       "<div>\n",
       "<style scoped>\n",
       "    .dataframe tbody tr th:only-of-type {\n",
       "        vertical-align: middle;\n",
       "    }\n",
       "\n",
       "    .dataframe tbody tr th {\n",
       "        vertical-align: top;\n",
       "    }\n",
       "\n",
       "    .dataframe thead th {\n",
       "        text-align: right;\n",
       "    }\n",
       "</style>\n",
       "<table border=\"1\" class=\"dataframe\">\n",
       "  <thead>\n",
       "    <tr style=\"text-align: right;\">\n",
       "      <th></th>\n",
       "      <th>상품명</th>\n",
       "      <th>스펙목록</th>\n",
       "      <th>가격</th>\n",
       "    </tr>\n",
       "  </thead>\n",
       "  <tbody>\n",
       "    <tr>\n",
       "      <th>2395</th>\n",
       "      <td>디엘티 ZEUS 아르떼 D3255H</td>\n",
       "      <td>LED TV / 32인치(81cm) / LED / HD / 60Hz / 명암비: 5...</td>\n",
       "      <td>135600</td>\n",
       "    </tr>\n",
       "    <tr>\n",
       "      <th>2396</th>\n",
       "      <td>삼성전자 LH65QHBEBGCXKR</td>\n",
       "      <td>실내용 사이니지 / 디스플레이모듈 / LED / 65인치(164cm) / 4K UH...</td>\n",
       "      <td>1349950</td>\n",
       "    </tr>\n",
       "    <tr>\n",
       "      <th>2397</th>\n",
       "      <td>와사비망고 QG551 QLED 와글와글 플러스</td>\n",
       "      <td>QLED TV / 55인치(138cm) / QLED / 4K UHD / VA패널계열...</td>\n",
       "      <td>439000</td>\n",
       "    </tr>\n",
       "    <tr>\n",
       "      <th>2398</th>\n",
       "      <td>삼성전자 LH32DCE2LGA</td>\n",
       "      <td>실내용 사이니지 / 디스플레이모듈 / LED / 32인치(80cm) / FHD / ...</td>\n",
       "      <td>439000</td>\n",
       "    </tr>\n",
       "    <tr>\n",
       "      <th>2399</th>\n",
       "      <td>삼성전자 UN40N5200 리퍼비시</td>\n",
       "      <td>LED TV / 40인치(101cm) / LED / FHD / 프로세서: 하이퍼리얼...</td>\n",
       "      <td>399000</td>\n",
       "    </tr>\n",
       "  </tbody>\n",
       "</table>\n",
       "</div>"
      ],
      "text/plain": [
       "                            상품명  \\\n",
       "2395        디엘티 ZEUS 아르떼 D3255H   \n",
       "2396        삼성전자 LH65QHBEBGCXKR   \n",
       "2397  와사비망고 QG551 QLED 와글와글 플러스   \n",
       "2398           삼성전자 LH32DCE2LGA   \n",
       "2399        삼성전자 UN40N5200 리퍼비시   \n",
       "\n",
       "                                                   스펙목록       가격  \n",
       "2395  LED TV / 32인치(81cm) / LED / HD / 60Hz / 명암비: 5...   135600  \n",
       "2396  실내용 사이니지 / 디스플레이모듈 / LED / 65인치(164cm) / 4K UH...  1349950  \n",
       "2397  QLED TV / 55인치(138cm) / QLED / 4K UHD / VA패널계열...   439000  \n",
       "2398  실내용 사이니지 / 디스플레이모듈 / LED / 32인치(80cm) / FHD / ...   439000  \n",
       "2399  LED TV / 40인치(101cm) / LED / FHD / 프로세서: 하이퍼리얼...   399000  "
      ]
     },
     "execution_count": 5,
     "metadata": {},
     "output_type": "execute_result"
    }
   ],
   "source": [
    "df = pd.read_excel('./2_다나와_TV크롤링결과.xlsx')\n",
    "df.tail()"
   ]
  },
  {
   "cell_type": "code",
   "execution_count": 6,
   "metadata": {},
   "outputs": [
    {
     "name": "stdout",
     "output_type": "stream",
     "text": [
      "<class 'pandas.core.frame.DataFrame'>\n",
      "RangeIndex: 2400 entries, 0 to 2399\n",
      "Data columns (total 3 columns):\n",
      " #   Column  Non-Null Count  Dtype \n",
      "---  ------  --------------  ----- \n",
      " 0   상품명     2400 non-null   object\n",
      " 1   스펙목록    2400 non-null   object\n",
      " 2   가격      2400 non-null   int64 \n",
      "dtypes: int64(1), object(2)\n",
      "memory usage: 56.4+ KB\n"
     ]
    }
   ],
   "source": [
    "df.info()"
   ]
  },
  {
   "cell_type": "code",
   "execution_count": 7,
   "metadata": {},
   "outputs": [
    {
     "data": {
      "text/plain": [
       "['필립스', '55PUN7645']"
      ]
     },
     "execution_count": 7,
     "metadata": {},
     "output_type": "execute_result"
    }
   ],
   "source": [
    "# 제조사 상품명 [상품코드]\n",
    "# split시 두번째 파라미터 숫자가 자를 횟수\n",
    "df['상품명'][725].split(' ', 1)"
   ]
  },
  {
   "cell_type": "code",
   "execution_count": 8,
   "metadata": {},
   "outputs": [],
   "source": [
    "comp_list, prod_list = [], []\n",
    "count = 0\n",
    "\n",
    "for title in df['상품명']:\n",
    "    temps = str(title).split(' ', 1)\n",
    "    try:\n",
    "        if len(temps) == 2: # 회사명/모델명만 있는 상품이 존재\n",
    "            comp_list.append(temps[0])\n",
    "            prod_list.append(temps[1])\n",
    "        else:\n",
    "            comp_list.append(temps[0])\n",
    "            prod_list.append(temps[0])\n",
    "    except:\n",
    "        print(count)\n",
    "        \n",
    "    count += 1"
   ]
  },
  {
   "cell_type": "code",
   "execution_count": 9,
   "metadata": {},
   "outputs": [],
   "source": [
    "cate_list, usetime_list, suction_list = [], [], []\n",
    "\n",
    "\n",
    "for spec_data in df['스펙목록']:\n",
    "    spec_list = spec_data.split(' / ')\n",
    "\n",
    "\n",
    "    # 카테고리, 사용시간, 흡입력 만 추출\n",
    "    category = spec_list[0]\n",
    "    cate_list.append(category)\n",
    "\n",
    "    time_count = 0\n",
    "    suction_count = 0 # 사용시간, 흡입력이 있을떄만 카운트\n",
    "\n",
    "    for spec in spec_list:\n",
    "        if '사용시간' in spec:\n",
    "            usetime_value = str(spec).split(' ')[1].strip()\n",
    "            time_count +=1\n",
    "        if '소비전력' in spec:\n",
    "            suction_value = str(spec).split(' ')[1].strip()\n",
    "            suction_count +=1\n",
    "\n",
    "    if time_count == 0: # 사용시간정보가 없음\n",
    "        usetime_value = ''\n",
    "    if suction_count == 0: # 흡입력에 대한 정보가 없음\n",
    "        suction_value = ''\n",
    "    \n",
    "    usetime_list.append(usetime_value)\n",
    "    suction_list.append(suction_value)"
   ]
  },
  {
   "cell_type": "code",
   "execution_count": 10,
   "metadata": {},
   "outputs": [
    {
     "data": {
      "text/plain": [
       "''"
      ]
     },
     "execution_count": 10,
     "metadata": {},
     "output_type": "execute_result"
    }
   ],
   "source": [
    "usetime_list[16]"
   ]
  },
  {
   "attachments": {},
   "cell_type": "markdown",
   "metadata": {},
   "source": [
    "##### 사용시간, 흡입력 단위 통일, 수치화\n",
    "\n",
    "- 사용시간 : 분, 시간, 시간 분 등 분류가 되어 있고, object64 --> 수치화 할 수 없음\n",
    "- 흡입력 : W, AW, Pa 등으로 단위가 일치하지 않고, object64 --> 수치화 불가"
   ]
  },
  {
   "cell_type": "code",
   "execution_count": 17,
   "metadata": {},
   "outputs": [
    {
     "name": "stdout",
     "output_type": "stream",
     "text": [
      "180\n"
     ]
    }
   ],
   "source": [
    "# 사용시간 단위 분으로 변환 함수\n",
    "\n",
    "def convert_to_min(cur_time):\n",
    "    hour, minute = 0, 0\n",
    "\n",
    "    try:\n",
    "        if '시간' in cur_time:\n",
    "            hour = int(cur_time.split('시간')[0])\n",
    "\n",
    "            if '분' in cur_time:\n",
    "                minute = int(cur_time.split('시간')[-1].split('분')[0])\n",
    "            else:\n",
    "                minute = 0\n",
    "        else:\n",
    "            hour = 0\n",
    "            minute = int(cur_time.split('분')[0])    \n",
    "\n",
    "        return hour*60 + minute\n",
    "    \n",
    "    except:\n",
    "        return None\n",
    "    \n",
    "print(convert_to_min(usetime_list[0]))\n"
   ]
  },
  {
   "cell_type": "code",
   "execution_count": 18,
   "metadata": {},
   "outputs": [],
   "source": [
    "usemin_list = []\n",
    "\n",
    "for ctime in usetime_list:\n",
    "    usemin_list.append(convert_to_min(ctime))\n"
   ]
  },
  {
   "cell_type": "code",
   "execution_count": 19,
   "metadata": {},
   "outputs": [
    {
     "data": {
      "text/html": [
       "<div>\n",
       "<style scoped>\n",
       "    .dataframe tbody tr th:only-of-type {\n",
       "        vertical-align: middle;\n",
       "    }\n",
       "\n",
       "    .dataframe tbody tr th {\n",
       "        vertical-align: top;\n",
       "    }\n",
       "\n",
       "    .dataframe thead th {\n",
       "        text-align: right;\n",
       "    }\n",
       "</style>\n",
       "<table border=\"1\" class=\"dataframe\">\n",
       "  <thead>\n",
       "    <tr style=\"text-align: right;\">\n",
       "      <th></th>\n",
       "      <th>0</th>\n",
       "    </tr>\n",
       "  </thead>\n",
       "  <tbody>\n",
       "    <tr>\n",
       "      <th>0</th>\n",
       "      <td>180.0</td>\n",
       "    </tr>\n",
       "    <tr>\n",
       "      <th>1</th>\n",
       "      <td>180.0</td>\n",
       "    </tr>\n",
       "    <tr>\n",
       "      <th>2</th>\n",
       "      <td>NaN</td>\n",
       "    </tr>\n",
       "    <tr>\n",
       "      <th>3</th>\n",
       "      <td>NaN</td>\n",
       "    </tr>\n",
       "    <tr>\n",
       "      <th>4</th>\n",
       "      <td>NaN</td>\n",
       "    </tr>\n",
       "    <tr>\n",
       "      <th>...</th>\n",
       "      <td>...</td>\n",
       "    </tr>\n",
       "    <tr>\n",
       "      <th>2395</th>\n",
       "      <td>NaN</td>\n",
       "    </tr>\n",
       "    <tr>\n",
       "      <th>2396</th>\n",
       "      <td>NaN</td>\n",
       "    </tr>\n",
       "    <tr>\n",
       "      <th>2397</th>\n",
       "      <td>NaN</td>\n",
       "    </tr>\n",
       "    <tr>\n",
       "      <th>2398</th>\n",
       "      <td>NaN</td>\n",
       "    </tr>\n",
       "    <tr>\n",
       "      <th>2399</th>\n",
       "      <td>NaN</td>\n",
       "    </tr>\n",
       "  </tbody>\n",
       "</table>\n",
       "<p>2400 rows × 1 columns</p>\n",
       "</div>"
      ],
      "text/plain": [
       "          0\n",
       "0     180.0\n",
       "1     180.0\n",
       "2       NaN\n",
       "3       NaN\n",
       "4       NaN\n",
       "...     ...\n",
       "2395    NaN\n",
       "2396    NaN\n",
       "2397    NaN\n",
       "2398    NaN\n",
       "2399    NaN\n",
       "\n",
       "[2400 rows x 1 columns]"
      ]
     },
     "execution_count": 19,
     "metadata": {},
     "output_type": "execute_result"
    }
   ],
   "source": [
    "pd.DataFrame(usemin_list)"
   ]
  },
  {
   "cell_type": "code",
   "execution_count": 260,
   "metadata": {},
   "outputs": [],
   "source": [
    "usemin_list[2222]"
   ]
  },
  {
   "cell_type": "code",
   "execution_count": 212,
   "metadata": {},
   "outputs": [],
   "source": [
    "# 흡입력 단위 통일\n",
    "def convert_suction(value):\n",
    "    try:\n",
    "        value = str(value).upper() # AW, W, Pa -> PA\n",
    "        if 'AW' in value or 'W' in value:\n",
    "            result = value.replace('A', '').replace('W', '').replace(',', '')\n",
    "            result = int(result)\n",
    "        elif 'PA' in value:\n",
    "            result = value.replace('PA', '')\n",
    "            result = int(result)/100\n",
    "        else:\n",
    "            result = None\n",
    "    except:\n",
    "        result = None\n",
    "    \n",
    "    return result"
   ]
  },
  {
   "cell_type": "code",
   "execution_count": 225,
   "metadata": {},
   "outputs": [
    {
     "data": {
      "text/plain": [
       "220"
      ]
     },
     "execution_count": 225,
     "metadata": {},
     "output_type": "execute_result"
    }
   ],
   "source": [
    "convert_suction(suction_list[19])"
   ]
  },
  {
   "cell_type": "code",
   "execution_count": 227,
   "metadata": {},
   "outputs": [],
   "source": [
    "new_suction_list = []\n",
    "\n",
    "for power in suction_list:\n",
    "    new_suction_list.append(convert_suction(power))"
   ]
  },
  {
   "cell_type": "code",
   "execution_count": 228,
   "metadata": {},
   "outputs": [
    {
     "data": {
      "text/plain": [
       "2225"
      ]
     },
     "execution_count": 228,
     "metadata": {},
     "output_type": "execute_result"
    }
   ],
   "source": [
    "len(new_suction_list)"
   ]
  },
  {
   "attachments": {},
   "cell_type": "markdown",
   "metadata": {},
   "source": [
    "#### 전처리 완료 자료 DF생성"
   ]
  },
  {
   "cell_type": "code",
   "execution_count": 229,
   "metadata": {},
   "outputs": [],
   "source": [
    "df_product = pd.DataFrame()\n",
    "df_product['카테고리'] = cate_list\n",
    "df_product['회사명'] = comp_list\n",
    "df_product['제품명'] = prod_list\n",
    "df_product['가격'] = df['가격']\n",
    "df_product['사용시간'] = usemin_list\n",
    "df_product['흡입력'] = new_suction_list"
   ]
  },
  {
   "cell_type": "code",
   "execution_count": 232,
   "metadata": {},
   "outputs": [
    {
     "name": "stdout",
     "output_type": "stream",
     "text": [
      "<class 'pandas.core.frame.DataFrame'>\n",
      "RangeIndex: 2225 entries, 0 to 2224\n",
      "Data columns (total 6 columns):\n",
      " #   Column  Non-Null Count  Dtype  \n",
      "---  ------  --------------  -----  \n",
      " 0   카테고리    2225 non-null   object \n",
      " 1   회사명     2225 non-null   object \n",
      " 2   제품명     2225 non-null   object \n",
      " 3   가격      2225 non-null   object \n",
      " 4   사용시간    1687 non-null   float64\n",
      " 5   흡입력     909 non-null    float64\n",
      "dtypes: float64(2), object(4)\n",
      "memory usage: 104.4+ KB\n"
     ]
    }
   ],
   "source": [
    "df_product.info()"
   ]
  },
  {
   "cell_type": "code",
   "execution_count": 283,
   "metadata": {},
   "outputs": [],
   "source": [
    "# 가격이 object인 이유는 '일시품절' --> 0\n",
    "df_product[df_product['가격'] == '일시품절'] = None\n"
   ]
  },
  {
   "cell_type": "code",
   "execution_count": 285,
   "metadata": {},
   "outputs": [
    {
     "data": {
      "text/plain": [
       "카테고리\n",
       "핸디스틱청소기              1034\n",
       "물걸레청소기                357\n",
       "차량용청소기                301\n",
       "핸디청소기                 169\n",
       "침구청소기                 107\n",
       "욕실청소기                  69\n",
       "업소용청소기                 45\n",
       "핸디/스틱청소기+로봇청소기세트       41\n",
       "스틱청소기                  32\n",
       "0                      32\n",
       "스틱청소기+로봇청소기트            5\n",
       "진공청소기                   4\n",
       "스틱청소기+공기청정기세트           4\n",
       "스팀청소기                   4\n",
       "청소기+제습기                 3\n",
       "핸디/스틱청소기+핸디/스틱청소기       3\n",
       "물걸레청소기+스팀청소기            2\n",
       "침구/카펫청소기                2\n",
       "핸디스틱청소기+공기청정기세트         2\n",
       "청소기+공기청정기               2\n",
       "로봇청소기                   1\n",
       "차량용선풍기                  1\n",
       "핸디/스틱청소기+전기밥세트          1\n",
       "핸디/스틱청소기+물걸레청소기세트       1\n",
       "핸디/스틱청소기+업소용청소기         1\n",
       "욕실+물걸레청소기               1\n",
       "수영장청소기                  1\n",
       "Name: count, dtype: int64"
      ]
     },
     "execution_count": 285,
     "metadata": {},
     "output_type": "execute_result"
    }
   ],
   "source": [
    "df_product['카테고리'].value_counts()"
   ]
  },
  {
   "cell_type": "code",
   "execution_count": 286,
   "metadata": {},
   "outputs": [],
   "source": [
    "df_product_final = df_product[df_product['카테고리'].isin(['핸디스틱청소기'])]"
   ]
  },
  {
   "cell_type": "code",
   "execution_count": 290,
   "metadata": {},
   "outputs": [
    {
     "name": "stdout",
     "output_type": "stream",
     "text": [
      "<class 'pandas.core.frame.DataFrame'>\n",
      "Index: 1034 entries, 0 to 1367\n",
      "Data columns (total 6 columns):\n",
      " #   Column  Non-Null Count  Dtype  \n",
      "---  ------  --------------  -----  \n",
      " 0   카테고리    1034 non-null   object \n",
      " 1   회사명     1034 non-null   object \n",
      " 2   제품명     1034 non-null   object \n",
      " 3   가격      1034 non-null   int64  \n",
      " 4   사용시간    899 non-null    float64\n",
      " 5   흡입력     674 non-null    float64\n",
      "dtypes: float64(2), int64(1), object(3)\n",
      "memory usage: 56.5+ KB\n"
     ]
    }
   ],
   "source": [
    "df_product_final.info()"
   ]
  },
  {
   "cell_type": "code",
   "execution_count": 288,
   "metadata": {},
   "outputs": [],
   "source": [
    "df_product_final = df_product_final.astype({'가격':'int64'}) # object64 --> int64 변경"
   ]
  },
  {
   "cell_type": "code",
   "execution_count": 289,
   "metadata": {},
   "outputs": [],
   "source": [
    "df_product_final.to_excel('./3_다나와_핸디스틱청소기_결과.xlsx', index=False)"
   ]
  }
 ],
 "metadata": {
  "kernelspec": {
   "display_name": "Python 3",
   "language": "python",
   "name": "python3"
  },
  "language_info": {
   "codemirror_mode": {
    "name": "ipython",
    "version": 3
   },
   "file_extension": ".py",
   "mimetype": "text/x-python",
   "name": "python",
   "nbconvert_exporter": "python",
   "pygments_lexer": "ipython3",
   "version": "3.11.4"
  },
  "orig_nbformat": 4,
  "vscode": {
   "interpreter": {
    "hash": "5238573367df39f7286bb46f9ff5f08f63a01a80960060ce41e3c79b190280fa"
   }
  }
 },
 "nbformat": 4,
 "nbformat_minor": 2
}
