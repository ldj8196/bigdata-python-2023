{
 "cells": [
  {
   "attachments": {},
   "cell_type": "markdown",
   "metadata": {},
   "source": [
    "### Pandas 기초\n",
    "\n",
    "#### Pandas 란?\n",
    "\n",
    "엑셀과 같은 테이블형태로 데이터를 다루는 파이썬 라이브러리(모듈)\n",
    "\n",
    "데이터 분석을 위한 추상자료구조(DataFrame)를 제공하는 데이터 분석도구\n",
    "- 엑셀/CSV 데이터 읽어오기\n",
    "- 데이터 처리\n",
    "- 엑셀/CSV 데이터 저장하기\n",
    "\n",
    "\n",
    "##### Pandas 용어\n",
    "- DataFrame, Series\n",
    "- Index, Columns, Values, (x, y)Series\n",
    "\n",
    "##### Pandas 사용\n",
    "- 판다스 설치\n",
    "```\n",
    "pip install pandas (콘솔)\n",
    "!pip install pandas(노트북)\n",
    "```"
   ]
  },
  {
   "cell_type": "code",
   "execution_count": 1,
   "metadata": {},
   "outputs": [
    {
     "name": "stdout",
     "output_type": "stream",
     "text": [
      "Requirement already satisfied: pandas in c:\\program files\\python311\\lib\\site-packages (2.0.2)\n",
      "Requirement already satisfied: python-dateutil>=2.8.2 in c:\\program files\\python311\\lib\\site-packages (from pandas) (2.8.2)\n",
      "Requirement already satisfied: pytz>=2020.1 in c:\\program files\\python311\\lib\\site-packages (from pandas) (2023.3)\n",
      "Requirement already satisfied: tzdata>=2022.1 in c:\\program files\\python311\\lib\\site-packages (from pandas) (2023.3)\n",
      "Requirement already satisfied: numpy>=1.21.0 in c:\\program files\\python311\\lib\\site-packages (from pandas) (1.25.0)\n",
      "Requirement already satisfied: six>=1.5 in c:\\program files\\python311\\lib\\site-packages (from python-dateutil>=2.8.2->pandas) (1.16.0)\n"
     ]
    }
   ],
   "source": [
    "!pip install pandas"
   ]
  },
  {
   "attachments": {},
   "cell_type": "markdown",
   "metadata": {},
   "source": [
    "##### 설치된 패키지 확인\n",
    "```\n",
    "!pip list\n",
    "```\n",
    "현재 pandas(2023.6기준) 2.0.2"
   ]
  },
  {
   "cell_type": "code",
   "execution_count": 2,
   "metadata": {},
   "outputs": [
    {
     "name": "stdout",
     "output_type": "stream",
     "text": [
      "Package           Version\n",
      "----------------- -------\n",
      "asttokens         2.2.1\n",
      "backcall          0.2.0\n",
      "colorama          0.4.6\n",
      "comm              0.1.3\n",
      "debugpy           1.6.7\n",
      "decorator         5.1.1\n",
      "executing         1.2.0\n",
      "Faker             18.11.1\n",
      "ipykernel         6.23.2\n",
      "ipython           8.14.0\n",
      "jedi              0.18.2\n",
      "jupyter_client    8.2.0\n",
      "jupyter_core      5.3.1\n",
      "matplotlib-inline 0.1.6\n",
      "nest-asyncio      1.5.6\n",
      "numpy             1.25.0\n",
      "packaging         23.1\n",
      "pandas            2.0.2\n",
      "parso             0.8.3\n",
      "pickleshare       0.7.5\n",
      "pip               23.1.2\n",
      "platformdirs      3.7.0\n",
      "prompt-toolkit    3.0.38\n",
      "psutil            5.9.5\n",
      "pure-eval         0.2.2\n",
      "Pygments          2.15.1\n",
      "python-dateutil   2.8.2\n",
      "pytz              2023.3\n",
      "pywin32           306\n",
      "pyzmq             25.1.0\n",
      "setuptools        65.5.0\n",
      "six               1.16.0\n",
      "stack-data        0.6.2\n",
      "tornado           6.3.2\n",
      "traitlets         5.9.0\n",
      "tzdata            2023.3\n",
      "wcwidth           0.2.6\n"
     ]
    }
   ],
   "source": [
    "!pip list"
   ]
  },
  {
   "attachments": {},
   "cell_type": "markdown",
   "metadata": {},
   "source": [
    "##### Pandas import\n",
    "```python\n",
    "import pandas as pd\n",
    "```"
   ]
  },
  {
   "cell_type": "code",
   "execution_count": 3,
   "metadata": {},
   "outputs": [],
   "source": [
    "import pandas as pd"
   ]
  },
  {
   "attachments": {},
   "cell_type": "markdown",
   "metadata": {},
   "source": [
    "##### 시리즈\n",
    "\n",
    "판다스 한행, 한열 나열해서 배열형식 데이터 타입\n",
    "\n",
    "<img src=\"https://velog.velcdn.com/images%2Fgjtjsdn1%2Fpost%2F41aab35d-d5bc-4a3f-b0fa-1c8770bf2eb9%2Fimage.png\" width=\"500\">"
   ]
  },
  {
   "cell_type": "code",
   "execution_count": 116,
   "metadata": {},
   "outputs": [],
   "source": [
    "# 시리즈 생성\n",
    "grade = pd.Series(data=['길동이', 90, 50, 75, 100], index=['이름', '국어', '영어', '수학', '미술'])"
   ]
  },
  {
   "attachments": {},
   "cell_type": "markdown",
   "metadata": {},
   "source": [
    "<img src=\"https://img1.daumcdn.net/thumb/R1280x0/?scode=mtistory2&fname=https%3A%2F%2Ft1.daumcdn.net%2Fcfile%2Ftistory%2F995809335BFBCC922B\" width=\"500\">"
   ]
  },
  {
   "cell_type": "code",
   "execution_count": 117,
   "metadata": {},
   "outputs": [
    {
     "data": {
      "text/plain": [
       "이름    길동이\n",
       "국어     90\n",
       "영어     50\n",
       "수학     75\n",
       "미술    100\n",
       "dtype: object"
      ]
     },
     "execution_count": 117,
     "metadata": {},
     "output_type": "execute_result"
    }
   ],
   "source": [
    "# 시리즈 출력\n",
    "grade"
   ]
  },
  {
   "cell_type": "code",
   "execution_count": 10,
   "metadata": {},
   "outputs": [
    {
     "data": {
      "text/plain": [
       "Index(['이름', '국어', '영어', '수학', '미술'], dtype='object')"
      ]
     },
     "execution_count": 10,
     "metadata": {},
     "output_type": "execute_result"
    }
   ],
   "source": [
    "# 시리즈 인덱스 출력\n",
    "grade.index"
   ]
  },
  {
   "cell_type": "code",
   "execution_count": 14,
   "metadata": {},
   "outputs": [
    {
     "data": {
      "text/plain": [
       "array(['길동이', 90, 50, 75, 100], dtype=object)"
      ]
     },
     "execution_count": 14,
     "metadata": {},
     "output_type": "execute_result"
    }
   ],
   "source": [
    "# 시리즈 데이터 출력\n",
    "grade.values"
   ]
  },
  {
   "attachments": {},
   "cell_type": "markdown",
   "metadata": {},
   "source": [
    "##### 딕셔너리를 시리즈로 변경\n",
    "\n",
    "파이썬 자료구조를 판다스에서 쓸 수 있는 형태로 변경해줘야 분석가능(데이터 전환)"
   ]
  },
  {
   "cell_type": "code",
   "execution_count": 18,
   "metadata": {},
   "outputs": [
    {
     "name": "stdout",
     "output_type": "stream",
     "text": [
      "original 타입:<class 'dict'>\n",
      "grade2 타입:<class 'pandas.core.series.Series'>\n"
     ]
    },
    {
     "data": {
      "text/plain": [
       "이름    길순이\n",
       "국어    100\n",
       "영어    100\n",
       "수학    100\n",
       "미술     30\n",
       "dtype: object"
      ]
     },
     "execution_count": 18,
     "metadata": {},
     "output_type": "execute_result"
    }
   ],
   "source": [
    "# 딕셔너리 자료구조\n",
    "original = {\"이름\": \"길순이\", \"국어\":100,\"영어\":100,\"수학\":100,\"미술\":30}\n",
    "print(f'original 타입:{type(original)}')\n",
    "\n",
    "# 판다스 시리즈로 변경\n",
    "grade2 = pd.Series(data=original)\n",
    "print(f'grade2 타입:{type(grade2)}')\n",
    "\n",
    "grade2"
   ]
  },
  {
   "attachments": {},
   "cell_type": "markdown",
   "metadata": {},
   "source": [
    "##### 시리즈 재색인\n",
    "\n",
    "컬럼 갯수 변경"
   ]
  },
  {
   "cell_type": "code",
   "execution_count": 64,
   "metadata": {},
   "outputs": [
    {
     "data": {
      "text/plain": [
       "name         유고\n",
       "korean        0\n",
       "english      10\n",
       "math          0\n",
       "           None\n",
       "dtype: object"
      ]
     },
     "execution_count": 64,
     "metadata": {},
     "output_type": "execute_result"
    }
   ],
   "source": [
    "grade3 = pd.Series(data=['유고', 0, 10, 0, None], index=['name', 'korean', 'english', 'math', ''])\n",
    "grade3"
   ]
  },
  {
   "cell_type": "code",
   "execution_count": 66,
   "metadata": {},
   "outputs": [
    {
     "data": {
      "text/plain": [
       "name       유고\n",
       "korean      0\n",
       "english    10\n",
       "dtype: object"
      ]
     },
     "execution_count": 66,
     "metadata": {},
     "output_type": "execute_result"
    }
   ],
   "source": [
    "# 시리즈 재색인 - 원래 있는 값에서 필요없는 컬럼 제거/ 필요한 컬럼 추가\n",
    "grade4 = grade3.reindex(index=['name', 'korean', 'english'])\n",
    "grade4"
   ]
  },
  {
   "cell_type": "code",
   "execution_count": 67,
   "metadata": {},
   "outputs": [
    {
     "data": {
      "text/plain": [
       "name        유고\n",
       "korean       0\n",
       "english     10\n",
       "math         0\n",
       "music      NaN\n",
       "dtype: object"
      ]
     },
     "execution_count": 67,
     "metadata": {},
     "output_type": "execute_result"
    }
   ],
   "source": [
    "# 필요한 값을 추가할때\n",
    "grade5 = grade3.reindex(index=['name', 'korean', 'english', 'math', 'music'])\n",
    "grade5"
   ]
  },
  {
   "attachments": {},
   "cell_type": "markdown",
   "metadata": {},
   "source": [
    "##### 컬럼 이름을 바꿀떄"
   ]
  },
  {
   "cell_type": "code",
   "execution_count": 101,
   "metadata": {},
   "outputs": [
    {
     "data": {
      "text/plain": [
       "이름     유고\n",
       "국어     90\n",
       "영어     10\n",
       "수학      0\n",
       "미술    100\n",
       "dtype: object"
      ]
     },
     "execution_count": 101,
     "metadata": {},
     "output_type": "execute_result"
    }
   ],
   "source": [
    "# 컬럼명 변경 할당을 해줘야 변경완료\n",
    "grade3.rename({'name':'이름', 'korean':'국어', 'english':'영어', 'math':'수학', 'art':'미술'})"
   ]
  },
  {
   "attachments": {},
   "cell_type": "markdown",
   "metadata": {},
   "source": [
    "##### 시리즈 조회 "
   ]
  },
  {
   "cell_type": "code",
   "execution_count": 69,
   "metadata": {},
   "outputs": [
    {
     "data": {
      "text/plain": [
       "이름    길동이\n",
       "국어     90\n",
       "영어     50\n",
       "수학     75\n",
       "미술    100\n",
       "dtype: object"
      ]
     },
     "execution_count": 69,
     "metadata": {},
     "output_type": "execute_result"
    }
   ],
   "source": [
    "# grade\n",
    "grade"
   ]
  },
  {
   "cell_type": "code",
   "execution_count": 48,
   "metadata": {},
   "outputs": [
    {
     "data": {
      "text/plain": [
       "'길동이'"
      ]
     },
     "execution_count": 48,
     "metadata": {},
     "output_type": "execute_result"
    }
   ],
   "source": [
    "# 인덱스 번호로 조회 \n",
    "# 리스트 사용할 때와 동일\n",
    "grade[0]"
   ]
  },
  {
   "cell_type": "code",
   "execution_count": 51,
   "metadata": {},
   "outputs": [
    {
     "data": {
      "text/plain": [
       "'길동이'"
      ]
     },
     "execution_count": 51,
     "metadata": {},
     "output_type": "execute_result"
    }
   ],
   "source": [
    "# 인덱스 명으로 조회 / 인덱스 명을 개발자가 알고있어야함\n",
    "grade['이름']"
   ]
  },
  {
   "cell_type": "code",
   "execution_count": 55,
   "metadata": {},
   "outputs": [
    {
     "data": {
      "text/plain": [
       "90"
      ]
     },
     "execution_count": 55,
     "metadata": {},
     "output_type": "execute_result"
    }
   ],
   "source": [
    "# loc함수 조회 / Content Assistant에 출력\n",
    "grade.loc['국어']"
   ]
  },
  {
   "cell_type": "code",
   "execution_count": 60,
   "metadata": {},
   "outputs": [
    {
     "data": {
      "text/plain": [
       "이름    길동이\n",
       "수학     75\n",
       "dtype: object"
      ]
     },
     "execution_count": 60,
     "metadata": {},
     "output_type": "execute_result"
    }
   ],
   "source": [
    "# 다중 인덱스 -> reindex 동일\n",
    "grade[['이름', '수학']]"
   ]
  },
  {
   "cell_type": "code",
   "execution_count": 61,
   "metadata": {},
   "outputs": [
    {
     "data": {
      "text/plain": [
       "이름    길동이\n",
       "수학     75\n",
       "dtype: object"
      ]
     },
     "execution_count": 61,
     "metadata": {},
     "output_type": "execute_result"
    }
   ],
   "source": [
    "grade.reindex(index=['이름', '수학'])"
   ]
  },
  {
   "attachments": {},
   "cell_type": "markdown",
   "metadata": {},
   "source": [
    "##### 조건문\n"
   ]
  },
  {
   "cell_type": "code",
   "execution_count": 74,
   "metadata": {},
   "outputs": [
    {
     "data": {
      "text/plain": [
       "이름    False\n",
       "국어    False\n",
       "영어    False\n",
       "수학    False\n",
       "미술    False\n",
       "dtype: bool"
      ]
     },
     "execution_count": 74,
     "metadata": {},
     "output_type": "execute_result"
    }
   ],
   "source": [
    "# null == None\n",
    "# grade 시리즈에 null값이 있는지 확인함수\n",
    "grade.isnull()"
   ]
  },
  {
   "cell_type": "code",
   "execution_count": 73,
   "metadata": {},
   "outputs": [
    {
     "data": {
      "text/plain": [
       "name       False\n",
       "korean     False\n",
       "english    False\n",
       "math       False\n",
       "            True\n",
       "dtype: bool"
      ]
     },
     "execution_count": 73,
     "metadata": {},
     "output_type": "execute_result"
    }
   ],
   "source": [
    "grade3.isnull()"
   ]
  },
  {
   "cell_type": "code",
   "execution_count": 76,
   "metadata": {},
   "outputs": [
    {
     "data": {
      "text/plain": [
       "    None\n",
       "dtype: object"
      ]
     },
     "execution_count": 76,
     "metadata": {},
     "output_type": "execute_result"
    }
   ],
   "source": [
    "# 데이터 분석할때 결측치 찾아날때 중요한 기능\n",
    "grade3[grade3.isnull()]"
   ]
  },
  {
   "cell_type": "code",
   "execution_count": 82,
   "metadata": {},
   "outputs": [
    {
     "data": {
      "text/plain": [
       "name        True\n",
       "korean      True\n",
       "english     True\n",
       "math        True\n",
       "           False\n",
       "dtype: bool"
      ]
     },
     "execution_count": 82,
     "metadata": {},
     "output_type": "execute_result"
    }
   ],
   "source": [
    "# 값이 있으면 true, 값이 없으면 false\n",
    "grade3.notnull()"
   ]
  },
  {
   "cell_type": "code",
   "execution_count": 89,
   "metadata": {},
   "outputs": [],
   "source": [
    "# 값 변경\n",
    "grade3[''] = 80"
   ]
  },
  {
   "cell_type": "code",
   "execution_count": 90,
   "metadata": {},
   "outputs": [
    {
     "data": {
      "text/plain": [
       "name       True\n",
       "korean     True\n",
       "english    True\n",
       "math       True\n",
       "           True\n",
       "dtype: bool"
      ]
     },
     "execution_count": 90,
     "metadata": {},
     "output_type": "execute_result"
    }
   ],
   "source": [
    "# 값이 변경되었는지 재확인\n",
    "grade3.notnull()"
   ]
  },
  {
   "cell_type": "code",
   "execution_count": 93,
   "metadata": {},
   "outputs": [
    {
     "data": {
      "text/plain": [
       "name       False\n",
       "korean     False\n",
       "english    False\n",
       "math       False\n",
       "           False\n",
       "dtype: bool"
      ]
     },
     "execution_count": 93,
     "metadata": {},
     "output_type": "execute_result"
    }
   ],
   "source": [
    "grade3.isnull()"
   ]
  },
  {
   "cell_type": "code",
   "execution_count": 97,
   "metadata": {},
   "outputs": [],
   "source": [
    "# 두가지 값 한꺼번에 변경\n",
    "grade3 = grade3.rename({'':'art'})"
   ]
  },
  {
   "cell_type": "code",
   "execution_count": 102,
   "metadata": {},
   "outputs": [],
   "source": [
    "# 시리즈의 다중 인덱스 = 튜플값\n",
    "grade3[['korean','art']] = (90, 100)"
   ]
  },
  {
   "cell_type": "code",
   "execution_count": 103,
   "metadata": {},
   "outputs": [
    {
     "data": {
      "text/plain": [
       "name        유고\n",
       "korean      90\n",
       "english     10\n",
       "math         0\n",
       "art        100\n",
       "dtype: object"
      ]
     },
     "execution_count": 103,
     "metadata": {},
     "output_type": "execute_result"
    }
   ],
   "source": [
    "grade3"
   ]
  },
  {
   "attachments": {},
   "cell_type": "markdown",
   "metadata": {},
   "source": [
    "##### 시리즈 삭제"
   ]
  },
  {
   "cell_type": "code",
   "execution_count": 115,
   "metadata": {},
   "outputs": [
    {
     "data": {
      "text/plain": [
       "name        유고\n",
       "english     10\n",
       "art        100\n",
       "dtype: object"
      ]
     },
     "execution_count": 115,
     "metadata": {},
     "output_type": "execute_result"
    }
   ],
   "source": [
    "# 시리즈에서 잠시 드랍 -> 할당 필요\n",
    "grade3.drop(['korean'])"
   ]
  },
  {
   "cell_type": "code",
   "execution_count": 108,
   "metadata": {},
   "outputs": [],
   "source": [
    "# 시리즈 이름\n",
    "grade.name = '홍길동 성적'"
   ]
  },
  {
   "cell_type": "code",
   "execution_count": 109,
   "metadata": {},
   "outputs": [
    {
     "data": {
      "text/plain": [
       "이름        길동이\n",
       "국어         90\n",
       "영어         50\n",
       "수학         75\n",
       "미술        100\n",
       "korean     80\n",
       "           80\n",
       "Name: 홍길동 성적, dtype: object"
      ]
     },
     "execution_count": 109,
     "metadata": {},
     "output_type": "execute_result"
    }
   ],
   "source": [
    "grade"
   ]
  },
  {
   "cell_type": "code",
   "execution_count": 110,
   "metadata": {},
   "outputs": [
    {
     "data": {
      "text/plain": [
       "'홍길동 성적'"
      ]
     },
     "execution_count": 110,
     "metadata": {},
     "output_type": "execute_result"
    }
   ],
   "source": [
    "grade.name"
   ]
  },
  {
   "cell_type": "code",
   "execution_count": 112,
   "metadata": {},
   "outputs": [
    {
     "data": {
      "text/plain": [
       "Index(['이름', '국어', '영어', '수학', '미술', 'korean', ''], dtype='object')"
      ]
     },
     "execution_count": 112,
     "metadata": {},
     "output_type": "execute_result"
    }
   ],
   "source": [
    "grade.index"
   ]
  },
  {
   "cell_type": "code",
   "execution_count": 113,
   "metadata": {},
   "outputs": [
    {
     "data": {
      "text/plain": [
       "array(['길동이', 90, 50, 75, 100, 80, 80], dtype=object)"
      ]
     },
     "execution_count": 113,
     "metadata": {},
     "output_type": "execute_result"
    }
   ],
   "source": [
    "grade.values"
   ]
  },
  {
   "attachments": {},
   "cell_type": "markdown",
   "metadata": {},
   "source": [
    "##### 함수(통계함수)"
   ]
  },
  {
   "cell_type": "code",
   "execution_count": 121,
   "metadata": {},
   "outputs": [
    {
     "data": {
      "text/plain": [
       "0   -2.059651\n",
       "1    0.074141\n",
       "2   -0.595045\n",
       "3    0.094207\n",
       "4    1.155380\n",
       "5    0.198590\n",
       "6    0.545743\n",
       "7   -0.423666\n",
       "8   -0.703981\n",
       "9    0.306272\n",
       "dtype: float64"
      ]
     },
     "execution_count": 121,
     "metadata": {},
     "output_type": "execute_result"
    }
   ],
   "source": [
    "import numpy as np\n",
    "\n",
    "s1 = pd.Series(np.random.randn(10))\n",
    "s1"
   ]
  },
  {
   "cell_type": "code",
   "execution_count": 125,
   "metadata": {},
   "outputs": [
    {
     "data": {
      "text/plain": [
       "count    10.000000\n",
       "mean     -0.140801\n",
       "std       0.872635\n",
       "min      -2.059651\n",
       "25%      -0.552200\n",
       "50%       0.084174\n",
       "75%       0.279351\n",
       "max       1.155380\n",
       "dtype: float64"
      ]
     },
     "execution_count": 125,
     "metadata": {},
     "output_type": "execute_result"
    }
   ],
   "source": [
    "# 기본적인 통계함수\n",
    "# count 총 수(빈도수)\n",
    "# mean 평균\n",
    "# std 표준편차\n",
    "# min 최소값\n",
    "# max 최대값\n",
    "# 50% 2사분위(중앙값)\n",
    "# 25% 1사분위(하위 25%)\n",
    "# 75% 3사분위(상위 75%)\n",
    "s1.describe()"
   ]
  },
  {
   "attachments": {},
   "cell_type": "markdown",
   "metadata": {},
   "source": [
    "##### count 빈도수 계산 함수\n",
    "- None, null, NaN(값이 무엇인지 정의할 수 없다)"
   ]
  },
  {
   "cell_type": "code",
   "execution_count": 127,
   "metadata": {},
   "outputs": [
    {
     "data": {
      "text/plain": [
       "0     1.0\n",
       "1     3.0\n",
       "2     5.0\n",
       "3     NaN\n",
       "4     1.0\n",
       "5     3.0\n",
       "6     5.0\n",
       "7     NaN\n",
       "8     1.0\n",
       "9     3.0\n",
       "10    5.0\n",
       "11    NaN\n",
       "12    1.0\n",
       "13    3.0\n",
       "14    5.0\n",
       "15    NaN\n",
       "dtype: float64"
      ]
     },
     "execution_count": 127,
     "metadata": {},
     "output_type": "execute_result"
    }
   ],
   "source": [
    "s2 = pd.Series([1, 3, 5, np.nan] * 4)\n",
    "s2"
   ]
  },
  {
   "cell_type": "code",
   "execution_count": 128,
   "metadata": {},
   "outputs": [
    {
     "data": {
      "text/plain": [
       "0     1.0\n",
       "1     3.0\n",
       "2     5.0\n",
       "3     NaN\n",
       "4     1.0\n",
       "5     3.0\n",
       "6     5.0\n",
       "7     NaN\n",
       "8     1.0\n",
       "9     3.0\n",
       "10    5.0\n",
       "11    NaN\n",
       "12    1.0\n",
       "13    3.0\n",
       "14    5.0\n",
       "15    NaN\n",
       "dtype: float64"
      ]
     },
     "execution_count": 128,
     "metadata": {},
     "output_type": "execute_result"
    }
   ],
   "source": [
    "s3 = pd.Series([1, 3, 5, None] * 4)\n",
    "s3"
   ]
  },
  {
   "cell_type": "code",
   "execution_count": 129,
   "metadata": {},
   "outputs": [
    {
     "data": {
      "text/plain": [
       "count    12.000000\n",
       "mean      3.000000\n",
       "std       1.705606\n",
       "min       1.000000\n",
       "25%       1.000000\n",
       "50%       3.000000\n",
       "75%       5.000000\n",
       "max       5.000000\n",
       "dtype: float64"
      ]
     },
     "execution_count": 129,
     "metadata": {},
     "output_type": "execute_result"
    }
   ],
   "source": [
    "s2.describe()"
   ]
  },
  {
   "cell_type": "code",
   "execution_count": 131,
   "metadata": {},
   "outputs": [
    {
     "data": {
      "text/plain": [
       "1.0    4\n",
       "3.0    4\n",
       "5.0    4\n",
       "Name: count, dtype: int64"
      ]
     },
     "execution_count": 131,
     "metadata": {},
     "output_type": "execute_result"
    }
   ],
   "source": [
    "# 빈도 계산\n",
    "s2.value_counts()"
   ]
  },
  {
   "cell_type": "code",
   "execution_count": 133,
   "metadata": {},
   "outputs": [
    {
     "data": {
      "text/plain": [
       "1.0    4\n",
       "3.0    4\n",
       "5.0    4\n",
       "NaN    4\n",
       "Name: count, dtype: int64"
      ]
     },
     "execution_count": 133,
     "metadata": {},
     "output_type": "execute_result"
    }
   ],
   "source": [
    "# 빈도 계산( 결측치도 포함 )\n",
    "s2.value_counts(dropna=False)"
   ]
  },
  {
   "cell_type": "code",
   "execution_count": 137,
   "metadata": {},
   "outputs": [
    {
     "data": {
      "text/plain": [
       "1.0    0.25\n",
       "3.0    0.25\n",
       "5.0    0.25\n",
       "NaN    0.25\n",
       "Name: proportion, dtype: float64"
      ]
     },
     "execution_count": 137,
     "metadata": {},
     "output_type": "execute_result"
    }
   ],
   "source": [
    "# 빈도 계산(비율/정규화)\n",
    "s2.value_counts(normalize=True, dropna=False)"
   ]
  },
  {
   "cell_type": "code",
   "execution_count": 138,
   "metadata": {},
   "outputs": [
    {
     "data": {
      "text/plain": [
       "(0.995, 2.333]    4\n",
       "(2.333, 3.667]    4\n",
       "(3.667, 5.0]      4\n",
       "Name: count, dtype: int64"
      ]
     },
     "execution_count": 138,
     "metadata": {},
     "output_type": "execute_result"
    }
   ],
   "source": [
    "# 빈도 계산(구간)\n",
    "s2.value_counts(bins=3)"
   ]
  },
  {
   "attachments": {},
   "cell_type": "markdown",
   "metadata": {},
   "source": [
    "#### 결측치 확인"
   ]
  },
  {
   "cell_type": "code",
   "execution_count": 139,
   "metadata": {},
   "outputs": [
    {
     "data": {
      "text/plain": [
       "4"
      ]
     },
     "execution_count": 139,
     "metadata": {},
     "output_type": "execute_result"
    }
   ],
   "source": [
    "# 결측치가 들어있는 시리즈 값의 갯수 반환\n",
    "s2.isnull().sum()"
   ]
  },
  {
   "attachments": {},
   "cell_type": "markdown",
   "metadata": {},
   "source": [
    "#### 결측치를 없애는 방법\n",
    "1. 결측치 삭제 - 통계치 전부 변경\n",
    "2. 결측치 채움 - 0으로 대체(평균값, 표준편차 수치가 많이 변경될 가능성), 평균값으로 대체"
   ]
  },
  {
   "cell_type": "code",
   "execution_count": 144,
   "metadata": {},
   "outputs": [],
   "source": [
    "# NaN만 채워줌\n",
    "s3 = s2.fillna(3.0) # 평균"
   ]
  },
  {
   "cell_type": "code",
   "execution_count": 148,
   "metadata": {},
   "outputs": [
    {
     "data": {
      "text/plain": [
       "count    16.000000\n",
       "mean      3.000000\n",
       "std       1.460593\n",
       "min       1.000000\n",
       "25%       2.500000\n",
       "50%       3.000000\n",
       "75%       3.500000\n",
       "max       5.000000\n",
       "dtype: float64"
      ]
     },
     "execution_count": 148,
     "metadata": {},
     "output_type": "execute_result"
    }
   ],
   "source": [
    "s3.describe()"
   ]
  },
  {
   "attachments": {},
   "cell_type": "markdown",
   "metadata": {},
   "source": [
    "#### 데이터 대치 map\n",
    "\n",
    "pandas.map()"
   ]
  },
  {
   "cell_type": "code",
   "execution_count": 151,
   "metadata": {},
   "outputs": [],
   "source": [
    "s4 = pd.Series([1, 2, 3] * 3)\n",
    "mapping = { 1 : \"One\", 2 : \"Two\", 3 : \"Three\" }"
   ]
  },
  {
   "cell_type": "code",
   "execution_count": 153,
   "metadata": {},
   "outputs": [],
   "source": [
    "# mapping\n",
    "s5 = s4.map(mapping)"
   ]
  },
  {
   "cell_type": "code",
   "execution_count": 156,
   "metadata": {},
   "outputs": [
    {
     "data": {
      "text/plain": [
       "0      One\n",
       "1      Two\n",
       "2    Three\n",
       "3      One\n",
       "4      Two\n",
       "5    Three\n",
       "6      One\n",
       "7      Two\n",
       "8    Three\n",
       "dtype: object"
      ]
     },
     "execution_count": 156,
     "metadata": {},
     "output_type": "execute_result"
    }
   ],
   "source": [
    "s5"
   ]
  },
  {
   "cell_type": "code",
   "execution_count": 157,
   "metadata": {},
   "outputs": [
    {
     "data": {
      "text/plain": [
       "0    Curr value is 1\n",
       "1    Curr value is 2\n",
       "2    Curr value is 3\n",
       "3    Curr value is 1\n",
       "4    Curr value is 2\n",
       "5    Curr value is 3\n",
       "6    Curr value is 1\n",
       "7    Curr value is 2\n",
       "8    Curr value is 3\n",
       "dtype: object"
      ]
     },
     "execution_count": 157,
     "metadata": {},
     "output_type": "execute_result"
    }
   ],
   "source": [
    "s4.map('Curr value is {0}'.format)"
   ]
  },
  {
   "cell_type": "code",
   "execution_count": 158,
   "metadata": {},
   "outputs": [
    {
     "data": {
      "text/plain": [
       "0    1\n",
       "1    4\n",
       "2    9\n",
       "3    1\n",
       "4    4\n",
       "5    9\n",
       "6    1\n",
       "7    4\n",
       "8    9\n",
       "dtype: int64"
      ]
     },
     "execution_count": 158,
     "metadata": {},
     "output_type": "execute_result"
    }
   ],
   "source": [
    "s4.map(lambda x: x ** 2)"
   ]
  },
  {
   "attachments": {},
   "cell_type": "markdown",
   "metadata": {},
   "source": [
    "##### 시리즈 부분 출력\n",
    "\n",
    "- 앞단에 있는 다섯개만 출력"
   ]
  },
  {
   "cell_type": "code",
   "execution_count": 159,
   "metadata": {},
   "outputs": [
    {
     "data": {
      "text/plain": [
       "0    1\n",
       "1    2\n",
       "2    3\n",
       "3    1\n",
       "4    2\n",
       "dtype: int64"
      ]
     },
     "execution_count": 159,
     "metadata": {},
     "output_type": "execute_result"
    }
   ],
   "source": [
    "s4.head()"
   ]
  },
  {
   "attachments": {},
   "cell_type": "markdown",
   "metadata": {},
   "source": [
    "- 끝에 다섯개만 출력"
   ]
  },
  {
   "cell_type": "code",
   "execution_count": 160,
   "metadata": {},
   "outputs": [
    {
     "data": {
      "text/plain": [
       "4    2\n",
       "5    3\n",
       "6    1\n",
       "7    2\n",
       "8    3\n",
       "dtype: int64"
      ]
     },
     "execution_count": 160,
     "metadata": {},
     "output_type": "execute_result"
    }
   ],
   "source": [
    "s4.tail()"
   ]
  },
  {
   "cell_type": "code",
   "execution_count": 165,
   "metadata": {},
   "outputs": [
    {
     "data": {
      "text/plain": [
       "0    21.0\n",
       "1     1.0\n",
       "2     6.0\n",
       "3     1.0\n",
       "4    12.0\n",
       "5     2.0\n",
       "6     5.0\n",
       "7     4.0\n",
       "8     7.0\n",
       "9     3.0\n",
       "dtype: float64"
      ]
     },
     "execution_count": 165,
     "metadata": {},
     "output_type": "execute_result"
    }
   ],
   "source": [
    "# 음수 제거하고, 10을 곱해서 십단위 수로 만들고, 반올림해서 소수점 없애기\n",
    "sint = s1.abs().map(lambda x: x * 10).round()\n",
    "sint"
   ]
  }
 ],
 "metadata": {
  "kernelspec": {
   "display_name": "Python 3",
   "language": "python",
   "name": "python3"
  },
  "language_info": {
   "codemirror_mode": {
    "name": "ipython",
    "version": 3
   },
   "file_extension": ".py",
   "mimetype": "text/x-python",
   "name": "python",
   "nbconvert_exporter": "python",
   "pygments_lexer": "ipython3",
   "version": "3.11.4"
  },
  "orig_nbformat": 4,
  "vscode": {
   "interpreter": {
    "hash": "5238573367df39f7286bb46f9ff5f08f63a01a80960060ce41e3c79b190280fa"
   }
  }
 },
 "nbformat": 4,
 "nbformat_minor": 2
}
