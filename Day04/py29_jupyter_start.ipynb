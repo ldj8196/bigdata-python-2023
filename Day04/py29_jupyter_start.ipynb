{
 "cells": [
  {
   "attachments": {},
   "cell_type": "markdown",
   "metadata": {},
   "source": [
    "# 주피터 노트북 기본\n",
    "\n",
    "## 셀 추가/삭제\n",
    "- 코드버튼 클릭 - Python 코드 셀 추가\n",
    "- Markdown버튼 클릭 = 마크다운 셀 추가\n",
    "\n",
    "### 단축키\n",
    "- Ctrl + Enter 셀 실행 \n",
    "- Shift + Enter 셀 실행 아래 같은 셀 추가\n",
    "- Enter 현재 셀 진입\n",
    "- ESC 현재 셀 빠져나가기\n",
    "- b 현재 셀 아래 세 셀 추가\n",
    "- a 현재 셀 위 세 셀 추가\n",
    "- m 현재 셀(python) -> 마크다운 셀 변경\n",
    "- y 현재 셀(Markdown) -> 파이선 셀 변경\n",
    "- Shift + L 셀 라인번호 표시 토글"
   ]
  },
  {
   "cell_type": "code",
   "execution_count": 1,
   "metadata": {},
   "outputs": [
    {
     "name": "stdout",
     "output_type": "stream",
     "text": [
      "여기는 파이썬 셀\n"
     ]
    }
   ],
   "source": [
    "print('여기는 파이썬 셀')"
   ]
  },
  {
   "attachments": {},
   "cell_type": "markdown",
   "metadata": {},
   "source": [
    "## 일반출력\n",
    "```python\n",
    "print('Hello, python!') # 마크다운 코드추가\n",
    "```"
   ]
  },
  {
   "cell_type": "code",
   "execution_count": 2,
   "metadata": {},
   "outputs": [
    {
     "name": "stdout",
     "output_type": "stream",
     "text": [
      "Hi~\n"
     ]
    }
   ],
   "source": [
    "print('Hi~')"
   ]
  },
  {
   "attachments": {},
   "cell_type": "markdown",
   "metadata": {},
   "source": [
    "### 이미지 추가\n",
    "\n",
    "> **인용** 좀 하세요~ 제발\n",
    "\n",
    "<img src=\"https://dojang.io/pluginfile.php/14085/mod_page/content/7/046011_.png\" width=\"400\">\n",
    "\n",
    "<img src=\"https://raw.githubusercontent.com/hugoMGSung/pknu_aspnet_2023/main/images/restapi02.gif\" width=\"400\">\n",
    "\n",
    "\n",
    "---\n",
    "\n",
    "|제목|내용|비고|\n",
    "|:-----|----------:|:----:|\n",
    "|제목1|내용1|비고1|\n",
    "|제목2|내용2|비고2|\n",
    "|제목3|내용3|비고3|\n",
    "|제목4|내용입니다4|비고4|\n",
    "|제목입니다.|내용4|비고4예용|"
   ]
  },
  {
   "attachments": {},
   "cell_type": "markdown",
   "metadata": {},
   "source": [
    "### 주피터 노트북 디버깅\n",
    "\n",
    "- 브레이크 포인트(중단점 클릭)\n",
    "- Ctrl + Shift + Alt + Enter\n",
    "    - py 디버깅과 동일(F10, F11) 사용"
   ]
  },
  {
   "cell_type": "code",
   "execution_count": 1,
   "metadata": {},
   "outputs": [],
   "source": [
    "# 나누기 함수\n",
    "def divide(x, y):\n",
    "    result = ''\n",
    "    try:\n",
    "        result = x // y\n",
    "    except Exception as e:\n",
    "        print(f'예외발생 : {e}')\n",
    "    \n",
    "    print('나누기 완료')\n",
    "    return result\n",
    "\n"
   ]
  },
  {
   "cell_type": "code",
   "execution_count": 4,
   "metadata": {},
   "outputs": [
    {
     "name": "stdout",
     "output_type": "stream",
     "text": [
      "예외발생 : integer division or modulo by zero\n",
      "나누기 완료\n",
      "\n"
     ]
    }
   ],
   "source": [
    "print(divide(7, 0))"
   ]
  },
  {
   "attachments": {},
   "cell_type": "markdown",
   "metadata": {},
   "source": [
    "### 출력 python과 차이점\n",
    "\n",
    "변수 출력할때 \n",
    "- 변수명만 입력 후 실행 결과출력\n",
    "- print() 도 출력\n",
    "    - 단, 변수만 쓸때는 제일마지막 변수만 출력\n",
    "    - 여러번 출력하고 싶으면 print() 사용할 것\n",
    "    - 하지만, 변수를 그냥출력할 때와 print() 출력때랑 결과 다름!"
   ]
  },
  {
   "cell_type": "code",
   "execution_count": 5,
   "metadata": {},
   "outputs": [
    {
     "data": {
      "text/plain": [
       "'Hello Python!'"
      ]
     },
     "execution_count": 5,
     "metadata": {},
     "output_type": "execute_result"
    }
   ],
   "source": [
    "a = 'Hello Python!'\n",
    "a"
   ]
  },
  {
   "cell_type": "code",
   "execution_count": 6,
   "metadata": {},
   "outputs": [
    {
     "name": "stdout",
     "output_type": "stream",
     "text": [
      "Hello Python!\n",
      "Hello Python!\n"
     ]
    }
   ],
   "source": [
    "print(a)\n",
    "print(a)"
   ]
  },
  {
   "attachments": {},
   "cell_type": "markdown",
   "metadata": {},
   "source": [
    "#### 경로 문제 해결\n",
    "\n",
    ".py에서의 파일 경로와 .ipynb 경로가 다름\n",
    "- .py  : ./Day04/dummy_members.csv\n",
    "- .ipynb : ./dummy_members.csv"
   ]
  },
  {
   "cell_type": "code",
   "execution_count": 2,
   "metadata": {},
   "outputs": [
    {
     "data": {
      "text/html": [
       "<div>\n",
       "<style scoped>\n",
       "    .dataframe tbody tr th:only-of-type {\n",
       "        vertical-align: middle;\n",
       "    }\n",
       "\n",
       "    .dataframe tbody tr th {\n",
       "        vertical-align: top;\n",
       "    }\n",
       "\n",
       "    .dataframe thead th {\n",
       "        text-align: right;\n",
       "    }\n",
       "</style>\n",
       "<table border=\"1\" class=\"dataframe\">\n",
       "  <thead>\n",
       "    <tr style=\"text-align: right;\">\n",
       "      <th></th>\n",
       "      <th>Unnamed: 0</th>\n",
       "      <th>이름</th>\n",
       "      <th>우편번호</th>\n",
       "      <th>주소</th>\n",
       "      <th>전화번호</th>\n",
       "      <th>이메일</th>\n",
       "    </tr>\n",
       "  </thead>\n",
       "  <tbody>\n",
       "    <tr>\n",
       "      <th>0</th>\n",
       "      <td>0</td>\n",
       "      <td>이은서</td>\n",
       "      <td>76500</td>\n",
       "      <td>경상남도 공주시 오금로 (서영장최동)</td>\n",
       "      <td>052-448-2998</td>\n",
       "      <td>hhan@example.org</td>\n",
       "    </tr>\n",
       "    <tr>\n",
       "      <th>1</th>\n",
       "      <td>1</td>\n",
       "      <td>하중수</td>\n",
       "      <td>81071</td>\n",
       "      <td>부산광역시 서초구 압구정로 (정숙임이읍)</td>\n",
       "      <td>032-956-9482</td>\n",
       "      <td>bagseongho@example.net</td>\n",
       "    </tr>\n",
       "    <tr>\n",
       "      <th>2</th>\n",
       "      <td>2</td>\n",
       "      <td>김지아</td>\n",
       "      <td>16095</td>\n",
       "      <td>인천광역시 서구 석촌호수로 (지현서김면)</td>\n",
       "      <td>070-4753-9106</td>\n",
       "      <td>hyejini@example.org</td>\n",
       "    </tr>\n",
       "    <tr>\n",
       "      <th>3</th>\n",
       "      <td>3</td>\n",
       "      <td>강은영</td>\n",
       "      <td>66108</td>\n",
       "      <td>대구광역시 서초구 반포대거리</td>\n",
       "      <td>016-437-5564</td>\n",
       "      <td>gimseonyeong@example.org</td>\n",
       "    </tr>\n",
       "    <tr>\n",
       "      <th>4</th>\n",
       "      <td>4</td>\n",
       "      <td>김하윤</td>\n",
       "      <td>82883</td>\n",
       "      <td>강원도 청주시 흥덕구 개포460가</td>\n",
       "      <td>061-976-3879</td>\n",
       "      <td>qbag@example.com</td>\n",
       "    </tr>\n",
       "    <tr>\n",
       "      <th>5</th>\n",
       "      <td>5</td>\n",
       "      <td>김옥자</td>\n",
       "      <td>78590</td>\n",
       "      <td>경상남도 태안군 잠실길 (준영박송면)</td>\n",
       "      <td>043-291-8507</td>\n",
       "      <td>ijihyeon@example.net</td>\n",
       "    </tr>\n",
       "    <tr>\n",
       "      <th>6</th>\n",
       "      <td>6</td>\n",
       "      <td>이경수</td>\n",
       "      <td>11666</td>\n",
       "      <td>대전광역시 북구 삼성거리 (경희김읍)</td>\n",
       "      <td>016-138-2431</td>\n",
       "      <td>nson@example.com</td>\n",
       "    </tr>\n",
       "    <tr>\n",
       "      <th>7</th>\n",
       "      <td>7</td>\n",
       "      <td>손지우</td>\n",
       "      <td>75658</td>\n",
       "      <td>충청남도 청주시 흥덕구 압구정6거리 (성수이고면)</td>\n",
       "      <td>043-267-2273</td>\n",
       "      <td>jaehyeon64@example.com</td>\n",
       "    </tr>\n",
       "    <tr>\n",
       "      <th>8</th>\n",
       "      <td>8</td>\n",
       "      <td>윤상훈</td>\n",
       "      <td>82819</td>\n",
       "      <td>전라북도 하남시 선릉로</td>\n",
       "      <td>042-108-5917</td>\n",
       "      <td>jongsu82@example.net</td>\n",
       "    </tr>\n",
       "    <tr>\n",
       "      <th>9</th>\n",
       "      <td>9</td>\n",
       "      <td>이성진</td>\n",
       "      <td>36089</td>\n",
       "      <td>울산광역시 서구 강남대40길</td>\n",
       "      <td>053-548-5071</td>\n",
       "      <td>phwang@example.com</td>\n",
       "    </tr>\n",
       "  </tbody>\n",
       "</table>\n",
       "</div>"
      ],
      "text/plain": [
       "   Unnamed: 0   이름   우편번호                           주소           전화번호  \\\n",
       "0           0  이은서  76500         경상남도 공주시 오금로 (서영장최동)   052-448-2998   \n",
       "1           1  하중수  81071       부산광역시 서초구 압구정로 (정숙임이읍)   032-956-9482   \n",
       "2           2  김지아  16095       인천광역시 서구 석촌호수로 (지현서김면)  070-4753-9106   \n",
       "3           3  강은영  66108              대구광역시 서초구 반포대거리   016-437-5564   \n",
       "4           4  김하윤  82883           강원도 청주시 흥덕구 개포460가   061-976-3879   \n",
       "5           5  김옥자  78590         경상남도 태안군 잠실길 (준영박송면)   043-291-8507   \n",
       "6           6  이경수  11666         대전광역시 북구 삼성거리 (경희김읍)   016-138-2431   \n",
       "7           7  손지우  75658  충청남도 청주시 흥덕구 압구정6거리 (성수이고면)   043-267-2273   \n",
       "8           8  윤상훈  82819                 전라북도 하남시 선릉로   042-108-5917   \n",
       "9           9  이성진  36089              울산광역시 서구 강남대40길   053-548-5071   \n",
       "\n",
       "                        이메일  \n",
       "0          hhan@example.org  \n",
       "1    bagseongho@example.net  \n",
       "2       hyejini@example.org  \n",
       "3  gimseonyeong@example.org  \n",
       "4          qbag@example.com  \n",
       "5      ijihyeon@example.net  \n",
       "6          nson@example.com  \n",
       "7    jaehyeon64@example.com  \n",
       "8      jongsu82@example.net  \n",
       "9        phwang@example.com  "
      ]
     },
     "execution_count": 2,
     "metadata": {},
     "output_type": "execute_result"
    }
   ],
   "source": [
    "import pandas as pd\n",
    "\n",
    "df = pd.read_csv('./dummy_members3.csv') # 주의점! 주피터노트북에서는 같은 폴더에 파일을 읽을때 \n",
    "df"
   ]
  },
  {
   "cell_type": "code",
   "execution_count": 4,
   "metadata": {},
   "outputs": [
    {
     "data": {
      "text/plain": [
       "'c:\\\\Source\\\\bigdata-python-2023\\\\Day04'"
      ]
     },
     "execution_count": 4,
     "metadata": {},
     "output_type": "execute_result"
    }
   ],
   "source": [
    "import os\n",
    "\n",
    "os.getcwd()"
   ]
  },
  {
   "attachments": {},
   "cell_type": "markdown",
   "metadata": {},
   "source": [
    "#### 출력초과 문제\n",
    "\n",
    "콘솔이나 주피터 셀출력 전체가 다 안나오는 현상(성능적 문제때문에 제약) \n",
    "\n",
    "```python\n",
    "pd.options.display.max_columns = None\n",
    "pd.options.display.max_rows = None\n",
    "```"
   ]
  },
  {
   "cell_type": "code",
   "execution_count": 3,
   "metadata": {},
   "outputs": [
    {
     "data": {
      "text/html": [
       "<div>\n",
       "<style scoped>\n",
       "    .dataframe tbody tr th:only-of-type {\n",
       "        vertical-align: middle;\n",
       "    }\n",
       "\n",
       "    .dataframe tbody tr th {\n",
       "        vertical-align: top;\n",
       "    }\n",
       "\n",
       "    .dataframe thead th {\n",
       "        text-align: right;\n",
       "    }\n",
       "</style>\n",
       "<table border=\"1\" class=\"dataframe\">\n",
       "  <thead>\n",
       "    <tr style=\"text-align: right;\">\n",
       "      <th></th>\n",
       "      <th>Unnamed: 0</th>\n",
       "      <th>이름</th>\n",
       "      <th>우편번호</th>\n",
       "      <th>주소</th>\n",
       "      <th>전화번호</th>\n",
       "      <th>이메일</th>\n",
       "    </tr>\n",
       "  </thead>\n",
       "  <tbody>\n",
       "    <tr>\n",
       "      <th>0</th>\n",
       "      <td>0</td>\n",
       "      <td>이은서</td>\n",
       "      <td>76500</td>\n",
       "      <td>경상남도 공주시 오금로 (서영장최동)</td>\n",
       "      <td>052-448-2998</td>\n",
       "      <td>hhan@example.org</td>\n",
       "    </tr>\n",
       "    <tr>\n",
       "      <th>1</th>\n",
       "      <td>1</td>\n",
       "      <td>하중수</td>\n",
       "      <td>81071</td>\n",
       "      <td>부산광역시 서초구 압구정로 (정숙임이읍)</td>\n",
       "      <td>032-956-9482</td>\n",
       "      <td>bagseongho@example.net</td>\n",
       "    </tr>\n",
       "    <tr>\n",
       "      <th>2</th>\n",
       "      <td>2</td>\n",
       "      <td>김지아</td>\n",
       "      <td>16095</td>\n",
       "      <td>인천광역시 서구 석촌호수로 (지현서김면)</td>\n",
       "      <td>070-4753-9106</td>\n",
       "      <td>hyejini@example.org</td>\n",
       "    </tr>\n",
       "    <tr>\n",
       "      <th>3</th>\n",
       "      <td>3</td>\n",
       "      <td>강은영</td>\n",
       "      <td>66108</td>\n",
       "      <td>대구광역시 서초구 반포대거리</td>\n",
       "      <td>016-437-5564</td>\n",
       "      <td>gimseonyeong@example.org</td>\n",
       "    </tr>\n",
       "    <tr>\n",
       "      <th>4</th>\n",
       "      <td>4</td>\n",
       "      <td>김하윤</td>\n",
       "      <td>82883</td>\n",
       "      <td>강원도 청주시 흥덕구 개포460가</td>\n",
       "      <td>061-976-3879</td>\n",
       "      <td>qbag@example.com</td>\n",
       "    </tr>\n",
       "    <tr>\n",
       "      <th>5</th>\n",
       "      <td>5</td>\n",
       "      <td>김옥자</td>\n",
       "      <td>78590</td>\n",
       "      <td>경상남도 태안군 잠실길 (준영박송면)</td>\n",
       "      <td>043-291-8507</td>\n",
       "      <td>ijihyeon@example.net</td>\n",
       "    </tr>\n",
       "    <tr>\n",
       "      <th>6</th>\n",
       "      <td>6</td>\n",
       "      <td>이경수</td>\n",
       "      <td>11666</td>\n",
       "      <td>대전광역시 북구 삼성거리 (경희김읍)</td>\n",
       "      <td>016-138-2431</td>\n",
       "      <td>nson@example.com</td>\n",
       "    </tr>\n",
       "    <tr>\n",
       "      <th>7</th>\n",
       "      <td>7</td>\n",
       "      <td>손지우</td>\n",
       "      <td>75658</td>\n",
       "      <td>충청남도 청주시 흥덕구 압구정6거리 (성수이고면)</td>\n",
       "      <td>043-267-2273</td>\n",
       "      <td>jaehyeon64@example.com</td>\n",
       "    </tr>\n",
       "    <tr>\n",
       "      <th>8</th>\n",
       "      <td>8</td>\n",
       "      <td>윤상훈</td>\n",
       "      <td>82819</td>\n",
       "      <td>전라북도 하남시 선릉로</td>\n",
       "      <td>042-108-5917</td>\n",
       "      <td>jongsu82@example.net</td>\n",
       "    </tr>\n",
       "    <tr>\n",
       "      <th>9</th>\n",
       "      <td>9</td>\n",
       "      <td>이성진</td>\n",
       "      <td>36089</td>\n",
       "      <td>울산광역시 서구 강남대40길</td>\n",
       "      <td>053-548-5071</td>\n",
       "      <td>phwang@example.com</td>\n",
       "    </tr>\n",
       "  </tbody>\n",
       "</table>\n",
       "</div>"
      ],
      "text/plain": [
       "   Unnamed: 0   이름   우편번호                           주소           전화번호  \\\n",
       "0           0  이은서  76500         경상남도 공주시 오금로 (서영장최동)   052-448-2998   \n",
       "1           1  하중수  81071       부산광역시 서초구 압구정로 (정숙임이읍)   032-956-9482   \n",
       "2           2  김지아  16095       인천광역시 서구 석촌호수로 (지현서김면)  070-4753-9106   \n",
       "3           3  강은영  66108              대구광역시 서초구 반포대거리   016-437-5564   \n",
       "4           4  김하윤  82883           강원도 청주시 흥덕구 개포460가   061-976-3879   \n",
       "5           5  김옥자  78590         경상남도 태안군 잠실길 (준영박송면)   043-291-8507   \n",
       "6           6  이경수  11666         대전광역시 북구 삼성거리 (경희김읍)   016-138-2431   \n",
       "7           7  손지우  75658  충청남도 청주시 흥덕구 압구정6거리 (성수이고면)   043-267-2273   \n",
       "8           8  윤상훈  82819                 전라북도 하남시 선릉로   042-108-5917   \n",
       "9           9  이성진  36089              울산광역시 서구 강남대40길   053-548-5071   \n",
       "\n",
       "                        이메일  \n",
       "0          hhan@example.org  \n",
       "1    bagseongho@example.net  \n",
       "2       hyejini@example.org  \n",
       "3  gimseonyeong@example.org  \n",
       "4          qbag@example.com  \n",
       "5      ijihyeon@example.net  \n",
       "6          nson@example.com  \n",
       "7    jaehyeon64@example.com  \n",
       "8      jongsu82@example.net  \n",
       "9        phwang@example.com  "
      ]
     },
     "execution_count": 3,
     "metadata": {},
     "output_type": "execute_result"
    }
   ],
   "source": [
    "pd.options.display.max_columns = 10\n",
    "pd.options.display.max_rows = 100\n",
    "data = pd.read_csv('./dummy_members3.csv', encoding='utf-8')\n",
    "\n",
    "data"
   ]
  }
 ],
 "metadata": {
  "kernelspec": {
   "display_name": "Python 3",
   "language": "python",
   "name": "python3"
  },
  "language_info": {
   "codemirror_mode": {
    "name": "ipython",
    "version": 3
   },
   "file_extension": ".py",
   "mimetype": "text/x-python",
   "name": "python",
   "nbconvert_exporter": "python",
   "pygments_lexer": "ipython3",
   "version": "3.11.4"
  },
  "orig_nbformat": 4,
  "vscode": {
   "interpreter": {
    "hash": "5238573367df39f7286bb46f9ff5f08f63a01a80960060ce41e3c79b190280fa"
   }
  }
 },
 "nbformat": 4,
 "nbformat_minor": 2
}
