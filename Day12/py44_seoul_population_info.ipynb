{
 "cells": [
  {
   "attachments": {},
   "cell_type": "markdown",
   "metadata": {},
   "source": [
    "#### 서울 열린데이터 광장 공공데이터 수집\n",
    "\n",
    "##### 서울열린데이터광장"
   ]
  },
  {
   "cell_type": "code",
   "execution_count": 1,
   "metadata": {},
   "outputs": [],
   "source": [
    "import requests\n",
    "import pandas as pd"
   ]
  },
  {
   "cell_type": "code",
   "execution_count": 4,
   "metadata": {},
   "outputs": [],
   "source": [
    "# API호출키\n",
    "apikey = '535a5452716c646a3130366550456c61'"
   ]
  },
  {
   "cell_type": "code",
   "execution_count": 5,
   "metadata": {},
   "outputs": [],
   "source": [
    "url = f'http://openapi.seoul.go.kr:8088/{apikey}/xml/citydata_ppltn/1/5/광화문·덕수궁'"
   ]
  },
  {
   "cell_type": "code",
   "execution_count": 13,
   "metadata": {},
   "outputs": [
    {
     "data": {
      "text/plain": [
       "'<Map><SeoulRtd.citydata_ppltn><AREA_NM>광화문·덕수궁</AREA_NM><AREA_CD>POI009</AREA_CD><AREA_CONGEST_LVL>약간 붐빔</AREA_CONGEST_LVL><AREA_CONGEST_MSG>사람들이 몰려있을 가능성이 크고 붐빈다고 느낄 수 있어요. 인구밀도가 높은 구간에서는 도보 이동시 부딪힘이 발생할 수 있어요.</AREA_CONGEST_MSG><AREA_PPLTN_MIN>40000</AREA_PPLTN_MIN><AREA_PPLTN_MAX>42000</AREA_PPLTN_MAX><MALE_PPLTN_RATE>52.3</MALE_PPLTN_RATE><FEMALE_PPLTN_RATE>47.7</FEMALE_PPLTN_RATE><PPLTN_RATE_0>0.1</PPLTN_RATE_0><PPLTN_RATE_10>1.3</PPLTN_RATE_10><PPLTN_RATE_20>16.0</PPLTN_RATE_20><PPLTN_RATE_30>28.7</PPLTN_RATE_30><PPLTN_RATE_40>27.3</PPLTN_RATE_40><PPLTN_RATE_50>17.2</PPLTN_RATE_50><PPLTN_RATE_60>6.3</PPLTN_RATE_60><PPLTN_RATE_70>3.1</PPLTN_RATE_70><RESNT_PPLTN_RATE>30.3</RESNT_PPLTN_RATE><NON_RESNT_PPLTN_RATE>69.7</NON_RESNT_PPLTN_RATE><REPLACE_YN>N</REPLACE_YN><PPLTN_TIME>2023-07-03 11:35</PPLTN_TIME><FCST_YN>Y</FCST_YN><FCST_PPLTN><FCST_PPLTN><FCST_TIME>2023-07-03 13:00</FCST_TIME><FCST_CONGEST_LVL>붐빔</FCST_CONGEST_LVL><FCST_PPLTN_MIN>40000</FCST_PPLTN_MIN><FCST_PPLTN_MAX>42000</FCST_PPLTN_MAX></FCST_PPLTN><FCST_PPLTN><FCST_TIME>2023-07-03 14:00</FCST_TIME><FCST_CONGEST_LVL>붐빔</FCST_CONGEST_LVL><FCST_PPLTN_MIN>40000</FCST_PPLTN_MIN><FCST_PPLTN_MAX>42000</FCST_PPLTN_MAX></FCST_PPLTN><FCST_PPLTN><FCST_TIME>2023-07-03 15:00</FCST_TIME><FCST_CONGEST_LVL>붐빔</FCST_CONGEST_LVL><FCST_PPLTN_MIN>36000</FCST_PPLTN_MIN><FCST_PPLTN_MAX>38000</FCST_PPLTN_MAX></FCST_PPLTN><FCST_PPLTN><FCST_TIME>2023-07-03 16:00</FCST_TIME><FCST_CONGEST_LVL>붐빔</FCST_CONGEST_LVL><FCST_PPLTN_MIN>34000</FCST_PPLTN_MIN><FCST_PPLTN_MAX>36000</FCST_PPLTN_MAX></FCST_PPLTN><FCST_PPLTN><FCST_TIME>2023-07-03 17:00</FCST_TIME><FCST_CONGEST_LVL>약간 붐빔</FCST_CONGEST_LVL><FCST_PPLTN_MIN>34000</FCST_PPLTN_MIN><FCST_PPLTN_MAX>36000</FCST_PPLTN_MAX></FCST_PPLTN><FCST_PPLTN><FCST_TIME>2023-07-03 18:00</FCST_TIME><FCST_CONGEST_LVL>약간 붐빔</FCST_CONGEST_LVL><FCST_PPLTN_MIN>32000</FCST_PPLTN_MIN><FCST_PPLTN_MAX>34000</FCST_PPLTN_MAX></FCST_PPLTN><FCST_PPLTN><FCST_TIME>2023-07-03 19:00</FCST_TIME><FCST_CONGEST_LVL>붐빔</FCST_CONGEST_LVL><FCST_PPLTN_MIN>36000</FCST_PPLTN_MIN><FCST_PPLTN_MAX>38000</FCST_PPLTN_MAX></FCST_PPLTN><FCST_PPLTN><FCST_TIME>2023-07-03 20:00</FCST_TIME><FCST_CONGEST_LVL>보통</FCST_CONGEST_LVL><FCST_PPLTN_MIN>22000</FCST_PPLTN_MIN><FCST_PPLTN_MAX>24000</FCST_PPLTN_MAX></FCST_PPLTN><FCST_PPLTN><FCST_TIME>2023-07-03 21:00</FCST_TIME><FCST_CONGEST_LVL>여유</FCST_CONGEST_LVL><FCST_PPLTN_MIN>16000</FCST_PPLTN_MIN><FCST_PPLTN_MAX>18000</FCST_PPLTN_MAX></FCST_PPLTN><FCST_PPLTN><FCST_TIME>2023-07-03 22:00</FCST_TIME><FCST_CONGEST_LVL>여유</FCST_CONGEST_LVL><FCST_PPLTN_MIN>14000</FCST_PPLTN_MIN><FCST_PPLTN_MAX>16000</FCST_PPLTN_MAX></FCST_PPLTN><FCST_PPLTN><FCST_TIME>2023-07-03 23:00</FCST_TIME><FCST_CONGEST_LVL>여유</FCST_CONGEST_LVL><FCST_PPLTN_MIN>9000</FCST_PPLTN_MIN><FCST_PPLTN_MAX>9500</FCST_PPLTN_MAX></FCST_PPLTN><FCST_PPLTN><FCST_TIME>2023-07-04 00:00</FCST_TIME><FCST_CONGEST_LVL>여유</FCST_CONGEST_LVL><FCST_PPLTN_MIN>6000</FCST_PPLTN_MIN><FCST_PPLTN_MAX>6500</FCST_PPLTN_MAX></FCST_PPLTN></FCST_PPLTN></SeoulRtd.citydata_ppltn></Map>'"
      ]
     },
     "execution_count": 13,
     "metadata": {},
     "output_type": "execute_result"
    }
   ],
   "source": [
    "requests.get(url)\n",
    "requests.get(url).text\n"
   ]
  },
  {
   "attachments": {},
   "cell_type": "markdown",
   "metadata": {},
   "source": [
    "##### 서울시 시군구별 사업체 데이터"
   ]
  },
  {
   "cell_type": "code",
   "execution_count": 26,
   "metadata": {},
   "outputs": [
    {
     "name": "stderr",
     "output_type": "stream",
     "text": [
      "c:\\Program Files\\Python311\\Lib\\site-packages\\openpyxl\\styles\\stylesheet.py:226: UserWarning: Workbook contains no default style, apply openpyxl's default\n",
      "  warn(\"Workbook contains no default style, apply openpyxl's default\")\n"
     ]
    },
    {
     "data": {
      "text/html": [
       "<div>\n",
       "<style scoped>\n",
       "    .dataframe tbody tr th:only-of-type {\n",
       "        vertical-align: middle;\n",
       "    }\n",
       "\n",
       "    .dataframe tbody tr th {\n",
       "        vertical-align: top;\n",
       "    }\n",
       "\n",
       "    .dataframe thead th {\n",
       "        text-align: right;\n",
       "    }\n",
       "</style>\n",
       "<table border=\"1\" class=\"dataframe\">\n",
       "  <thead>\n",
       "    <tr style=\"text-align: right;\">\n",
       "      <th></th>\n",
       "      <th>구</th>\n",
       "      <th>사업체수</th>\n",
       "      <th>여성대표자</th>\n",
       "      <th>종사자수계</th>\n",
       "      <th>종사자(남)</th>\n",
       "      <th>종사자(여)</th>\n",
       "    </tr>\n",
       "  </thead>\n",
       "  <tbody>\n",
       "    <tr>\n",
       "      <th>0</th>\n",
       "      <td>소계</td>\n",
       "      <td>1188091</td>\n",
       "      <td>407948</td>\n",
       "      <td>5771226</td>\n",
       "      <td>3218529</td>\n",
       "      <td>2552697</td>\n",
       "    </tr>\n",
       "    <tr>\n",
       "      <th>1</th>\n",
       "      <td>종로구</td>\n",
       "      <td>48361</td>\n",
       "      <td>16563</td>\n",
       "      <td>275063</td>\n",
       "      <td>153210</td>\n",
       "      <td>121853</td>\n",
       "    </tr>\n",
       "    <tr>\n",
       "      <th>2</th>\n",
       "      <td>중구</td>\n",
       "      <td>70308</td>\n",
       "      <td>25794</td>\n",
       "      <td>386564</td>\n",
       "      <td>213782</td>\n",
       "      <td>172782</td>\n",
       "    </tr>\n",
       "    <tr>\n",
       "      <th>3</th>\n",
       "      <td>용산구</td>\n",
       "      <td>29680</td>\n",
       "      <td>10454</td>\n",
       "      <td>152605</td>\n",
       "      <td>84314</td>\n",
       "      <td>68291</td>\n",
       "    </tr>\n",
       "    <tr>\n",
       "      <th>4</th>\n",
       "      <td>성동구</td>\n",
       "      <td>41665</td>\n",
       "      <td>13447</td>\n",
       "      <td>203221</td>\n",
       "      <td>116978</td>\n",
       "      <td>86243</td>\n",
       "    </tr>\n",
       "  </tbody>\n",
       "</table>\n",
       "</div>"
      ],
      "text/plain": [
       "     구     사업체수   여성대표자    종사자수계   종사자(남)   종사자(여)\n",
       "0   소계  1188091  407948  5771226  3218529  2552697\n",
       "1  종로구    48361   16563   275063   153210   121853\n",
       "2   중구    70308   25794   386564   213782   172782\n",
       "3  용산구    29680   10454   152605    84314    68291\n",
       "4  성동구    41665   13447   203221   116978    86243"
      ]
     },
     "execution_count": 26,
     "metadata": {},
     "output_type": "execute_result"
    }
   ],
   "source": [
    "biz_df = pd.read_excel('./사업체현황_2307.xlsx', header=3, usecols='B:G')\n",
    "columns = {\n",
    "    '동별(2)':'구',\n",
    "    '소계':'사업체수',\n",
    "    '여성대표자':'여성대표자',\n",
    "    '소계.1':'종사자수계',\n",
    "    '남':'종사자(남)',\n",
    "    '여':'종사자(여)'\n",
    "}\n",
    "biz_df.rename(columns=columns, inplace=True)\n",
    "biz_df.head()"
   ]
  },
  {
   "cell_type": "code",
   "execution_count": 30,
   "metadata": {},
   "outputs": [
    {
     "data": {
      "text/html": [
       "<div>\n",
       "<style scoped>\n",
       "    .dataframe tbody tr th:only-of-type {\n",
       "        vertical-align: middle;\n",
       "    }\n",
       "\n",
       "    .dataframe tbody tr th {\n",
       "        vertical-align: top;\n",
       "    }\n",
       "\n",
       "    .dataframe thead th {\n",
       "        text-align: right;\n",
       "    }\n",
       "</style>\n",
       "<table border=\"1\" class=\"dataframe\">\n",
       "  <thead>\n",
       "    <tr style=\"text-align: right;\">\n",
       "      <th></th>\n",
       "      <th>구</th>\n",
       "      <th>사업체수</th>\n",
       "      <th>여성대표자</th>\n",
       "      <th>종사자수계</th>\n",
       "      <th>종사자(남)</th>\n",
       "      <th>종사자(여)</th>\n",
       "    </tr>\n",
       "  </thead>\n",
       "  <tbody>\n",
       "    <tr>\n",
       "      <th>1</th>\n",
       "      <td>종로구</td>\n",
       "      <td>48361</td>\n",
       "      <td>16563</td>\n",
       "      <td>275063</td>\n",
       "      <td>153210</td>\n",
       "      <td>121853</td>\n",
       "    </tr>\n",
       "    <tr>\n",
       "      <th>2</th>\n",
       "      <td>중구</td>\n",
       "      <td>70308</td>\n",
       "      <td>25794</td>\n",
       "      <td>386564</td>\n",
       "      <td>213782</td>\n",
       "      <td>172782</td>\n",
       "    </tr>\n",
       "    <tr>\n",
       "      <th>3</th>\n",
       "      <td>용산구</td>\n",
       "      <td>29680</td>\n",
       "      <td>10454</td>\n",
       "      <td>152605</td>\n",
       "      <td>84314</td>\n",
       "      <td>68291</td>\n",
       "    </tr>\n",
       "    <tr>\n",
       "      <th>4</th>\n",
       "      <td>성동구</td>\n",
       "      <td>41665</td>\n",
       "      <td>13447</td>\n",
       "      <td>203221</td>\n",
       "      <td>116978</td>\n",
       "      <td>86243</td>\n",
       "    </tr>\n",
       "    <tr>\n",
       "      <th>5</th>\n",
       "      <td>광진구</td>\n",
       "      <td>33706</td>\n",
       "      <td>12297</td>\n",
       "      <td>129707</td>\n",
       "      <td>71124</td>\n",
       "      <td>58583</td>\n",
       "    </tr>\n",
       "  </tbody>\n",
       "</table>\n",
       "</div>"
      ],
      "text/plain": [
       "     구   사업체수  여성대표자   종사자수계  종사자(남)  종사자(여)\n",
       "1  종로구  48361  16563  275063  153210  121853\n",
       "2   중구  70308  25794  386564  213782  172782\n",
       "3  용산구  29680  10454  152605   84314   68291\n",
       "4  성동구  41665  13447  203221  116978   86243\n",
       "5  광진구  33706  12297  129707   71124   58583"
      ]
     },
     "execution_count": 30,
     "metadata": {},
     "output_type": "execute_result"
    }
   ],
   "source": [
    "# 첫번쨰 행 삭제\n",
    "biz_df.drop([0], axis=0, inplace=True)\n",
    "biz_df.head()"
   ]
  },
  {
   "cell_type": "code",
   "execution_count": 35,
   "metadata": {},
   "outputs": [
    {
     "data": {
      "text/html": [
       "<div>\n",
       "<style scoped>\n",
       "    .dataframe tbody tr th:only-of-type {\n",
       "        vertical-align: middle;\n",
       "    }\n",
       "\n",
       "    .dataframe tbody tr th {\n",
       "        vertical-align: top;\n",
       "    }\n",
       "\n",
       "    .dataframe thead th {\n",
       "        text-align: right;\n",
       "    }\n",
       "</style>\n",
       "<table border=\"1\" class=\"dataframe\">\n",
       "  <thead>\n",
       "    <tr style=\"text-align: right;\">\n",
       "      <th></th>\n",
       "      <th>구</th>\n",
       "      <th>사업체수</th>\n",
       "      <th>종사자수계</th>\n",
       "    </tr>\n",
       "  </thead>\n",
       "  <tbody>\n",
       "    <tr>\n",
       "      <th>1</th>\n",
       "      <td>종로구</td>\n",
       "      <td>48361</td>\n",
       "      <td>275063</td>\n",
       "    </tr>\n",
       "    <tr>\n",
       "      <th>2</th>\n",
       "      <td>중구</td>\n",
       "      <td>70308</td>\n",
       "      <td>386564</td>\n",
       "    </tr>\n",
       "    <tr>\n",
       "      <th>3</th>\n",
       "      <td>용산구</td>\n",
       "      <td>29680</td>\n",
       "      <td>152605</td>\n",
       "    </tr>\n",
       "    <tr>\n",
       "      <th>4</th>\n",
       "      <td>성동구</td>\n",
       "      <td>41665</td>\n",
       "      <td>203221</td>\n",
       "    </tr>\n",
       "    <tr>\n",
       "      <th>5</th>\n",
       "      <td>광진구</td>\n",
       "      <td>33706</td>\n",
       "      <td>129707</td>\n",
       "    </tr>\n",
       "  </tbody>\n",
       "</table>\n",
       "</div>"
      ],
      "text/plain": [
       "     구   사업체수   종사자수계\n",
       "1  종로구  48361  275063\n",
       "2   중구  70308  386564\n",
       "3  용산구  29680  152605\n",
       "4  성동구  41665  203221\n",
       "5  광진구  33706  129707"
      ]
     },
     "execution_count": 35,
     "metadata": {},
     "output_type": "execute_result"
    }
   ],
   "source": [
    "seoul_biz_df = biz_df[['구', '사업체수', '종사자수계']]\n",
    "seoul_biz_df.head()"
   ]
  },
  {
   "cell_type": "code",
   "execution_count": 36,
   "metadata": {},
   "outputs": [
    {
     "name": "stdout",
     "output_type": "stream",
     "text": [
      "<class 'pandas.core.frame.DataFrame'>\n",
      "RangeIndex: 25 entries, 1 to 25\n",
      "Data columns (total 3 columns):\n",
      " #   Column  Non-Null Count  Dtype \n",
      "---  ------  --------------  ----- \n",
      " 0   구       25 non-null     object\n",
      " 1   사업체수    25 non-null     int64 \n",
      " 2   종사자수계   25 non-null     int64 \n",
      "dtypes: int64(2), object(1)\n",
      "memory usage: 732.0+ bytes\n"
     ]
    }
   ],
   "source": [
    "seoul_biz_df.info()"
   ]
  },
  {
   "cell_type": "code",
   "execution_count": 37,
   "metadata": {},
   "outputs": [],
   "source": [
    "seoul_biz_df.to_excel('./seoul_biz.xlsx', index=False)"
   ]
  }
 ],
 "metadata": {
  "kernelspec": {
   "display_name": "Python 3",
   "language": "python",
   "name": "python3"
  },
  "language_info": {
   "codemirror_mode": {
    "name": "ipython",
    "version": 3
   },
   "file_extension": ".py",
   "mimetype": "text/x-python",
   "name": "python",
   "nbconvert_exporter": "python",
   "pygments_lexer": "ipython3",
   "version": "3.11.4"
  },
  "orig_nbformat": 4,
  "vscode": {
   "interpreter": {
    "hash": "5238573367df39f7286bb46f9ff5f08f63a01a80960060ce41e3c79b190280fa"
   }
  }
 },
 "nbformat": 4,
 "nbformat_minor": 2
}
