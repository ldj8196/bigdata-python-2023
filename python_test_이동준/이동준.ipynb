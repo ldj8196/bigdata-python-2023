{
 "cells": [
  {
   "attachments": {},
   "cell_type": "markdown",
   "metadata": {},
   "source": [
    "##### 문제 1번"
   ]
  },
  {
   "cell_type": "code",
   "execution_count": 1,
   "metadata": {},
   "outputs": [
    {
     "name": "stdout",
     "output_type": "stream",
     "text": [
      "남성입니다.\n",
      "1\n"
     ]
    }
   ],
   "source": [
    "val = input('주민번호를 입력하세요(******-*******) > ')\n",
    "male = [1, 3, 5]\n",
    "female = [2, 4, 6]\n",
    "\n",
    "for i in range(len(male)):\n",
    "    if int(val.split('-')[1][0]) == male[i]:\n",
    "        print('남성입니다.')\n",
    "    elif int(val.split('-')[1][0]) == female[i]:\n",
    "        print('여성입니다.')\n",
    "\n",
    "print(val.split('-')[1][0])"
   ]
  },
  {
   "attachments": {},
   "cell_type": "markdown",
   "metadata": {},
   "source": [
    "##### 문제 2번"
   ]
  },
  {
   "cell_type": "code",
   "execution_count": 2,
   "metadata": {},
   "outputs": [
    {
     "name": "stdout",
     "output_type": "stream",
     "text": [
      "일요일\n"
     ]
    }
   ],
   "source": [
    "val = input('일주일 영어명을 입력해보세요. > ')\n",
    "\n",
    "day_contain_list = ['MON', 'TUE', 'WED', 'TUR', 'FRI', 'SAT', 'SUN']\n",
    "day_list = ['월요일', '화요일', '수요일', '목요일', '금요일', '토요일', '일요일']\n",
    "\n",
    "for i in range(len(day_contain_list)):\n",
    "    if val in day_contain_list[i]:\n",
    "        print(day_list[i])\n",
    "    "
   ]
  },
  {
   "attachments": {},
   "cell_type": "markdown",
   "metadata": {},
   "source": [
    "##### 문제 3번"
   ]
  },
  {
   "cell_type": "code",
   "execution_count": 3,
   "metadata": {},
   "outputs": [
    {
     "name": "stdout",
     "output_type": "stream",
     "text": [
      "어서오십시오, 손님~!!\n"
     ]
    }
   ],
   "source": [
    "val = input('나이를 입력하세요 > ')\n",
    "\n",
    "if int(val) < 19:\n",
    "    print('애들은가라')\n",
    "elif int(val) >= 19:\n",
    "    print('어서오십시오, 손님~!!')\n",
    "    "
   ]
  },
  {
   "attachments": {},
   "cell_type": "markdown",
   "metadata": {},
   "source": [
    "##### 문제 4번"
   ]
  },
  {
   "cell_type": "code",
   "execution_count": 9,
   "metadata": {},
   "outputs": [],
   "source": [
    "i = 1\n",
    "list_total = []\n",
    "\n",
    "while i <= 10000:\n",
    "    if (i % 3 == 0) or (i % 5 == 0):\n",
    "        list_total.append(i)\n",
    "    i = i + 1\n",
    "\n",
    "with open('../python_test_이동준/result.txt', 'w', encoding='utf-8') as f:\n",
    "    for line in list_total:\n",
    "        f.write(str(line))\n",
    "        f.write(' ')\n",
    "\n"
   ]
  },
  {
   "attachments": {},
   "cell_type": "markdown",
   "metadata": {},
   "source": [
    "##### 문제 5번"
   ]
  },
  {
   "cell_type": "code",
   "execution_count": 5,
   "metadata": {},
   "outputs": [
    {
     "name": "stdout",
     "output_type": "stream",
     "text": [
      "2023\\07-04 10*05%S\n"
     ]
    }
   ],
   "source": [
    "from datetime import date, datetime\n",
    "\n",
    "cur_dt = datetime.now()\n",
    "\n",
    "print(cur_dt.strftime('%Y\\%m-%d %H*%M'+'%'+'%S')) # date.today() 와 동일하지만 String 타입임\n"
   ]
  }
 ],
 "metadata": {
  "kernelspec": {
   "display_name": "Python 3",
   "language": "python",
   "name": "python3"
  },
  "language_info": {
   "codemirror_mode": {
    "name": "ipython",
    "version": 3
   },
   "file_extension": ".py",
   "mimetype": "text/x-python",
   "name": "python",
   "nbconvert_exporter": "python",
   "pygments_lexer": "ipython3",
   "version": "3.11.4"
  },
  "orig_nbformat": 4,
  "vscode": {
   "interpreter": {
    "hash": "5238573367df39f7286bb46f9ff5f08f63a01a80960060ce41e3c79b190280fa"
   }
  }
 },
 "nbformat": 4,
 "nbformat_minor": 2
}
