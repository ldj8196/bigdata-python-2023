{
 "cells": [
  {
   "attachments": {},
   "cell_type": "markdown",
   "metadata": {},
   "source": [
    "#### 제주도 핫플레이스 인스타그램에서 크롤링하기\n",
    "\n",
    "##### matplotlib 한글설정\n",
    "\n",
    "##### 셀레니움 설정"
   ]
  },
  {
   "cell_type": "code",
   "execution_count": 1,
   "metadata": {},
   "outputs": [],
   "source": [
    "import matplotlib\n",
    "from matplotlib import pyplot as plt\n",
    "# import matplotlib.pyplot as plt\n",
    "from matplotlib import font_manager, rc, rcParams\n",
    "import seaborn as sns\n",
    "\n",
    "font_path = 'C:/Windows/Fonts/malgun.ttf'\n",
    "font = font_manager.FontProperties(fname=font_path).get_name() # malgun\n",
    "rc('font', family=font)\n",
    "rcParams['axes.unicode_minus'] = False"
   ]
  },
  {
   "cell_type": "code",
   "execution_count": 4,
   "metadata": {},
   "outputs": [],
   "source": [
    "# 셀레니움\n",
    "# 모듈 임포트\n",
    "from selenium import webdriver\n",
    "\n",
    "driver = webdriver.Chrome()\n",
    "url = 'https://www.instagram.com/explore/tags/%EC%A0%9C%EC%A3%BC%EB%8F%84%EB%A7%9B%EC%A7%91/'\n",
    "driver.get(url)"
   ]
  },
  {
   "attachments": {},
   "cell_type": "markdown",
   "metadata": {},
   "source": [
    "##### 첫번째 게시글 찾아서 클릭하기"
   ]
  },
  {
   "cell_type": "code",
   "execution_count": 11,
   "metadata": {},
   "outputs": [],
   "source": [
    "from selenium.webdriver.common.by import By\n",
    "import time\n",
    "\n",
    "def select_first_post(driver):\n",
    "    first = driver.find_elements(By.CLASS_NAME, '_aagw')[0]\n",
    "    first.click()\n",
    "    time.sleep(3)\n",
    "\n",
    "select_first_post(driver)"
   ]
  },
  {
   "attachments": {},
   "cell_type": "markdown",
   "metadata": {},
   "source": [
    "##### 게시글 정보 가져오기"
   ]
  },
  {
   "cell_type": "code",
   "execution_count": 48,
   "metadata": {},
   "outputs": [
    {
     "data": {
      "text/plain": [
       "['y1n_hqy(광고)제주도에서 쓰끼다시가 가장 잘나오고 서귀포에서 오션뷰로 회를 먹을수있는곳💜💜대포항 바로 앞에 큰 규모의 횟집에서 오션뷰로 즐길 수 있는 횟집으로,제주에서 횟감 하나만큼은 가장 싱싱하다고 자부할 수 있는 이곳!!제주도에서 스끼다시가 가장 잘 나오는 곳으로그때그때 가장 싱싱한 해산물만을 즐길 수 있는 맛집커플, 가족단위로 와서 힐링하기도 좋고대규모 좌석으로 대형버스 예약까지 많은 맛집!!👉🏻식사 후에는 바로 옆에 dp159카페에서 커피한잔까지 완벽한 맛집☕️☕️OCEAN VIEW 중문 큰갯물횟집0507-1360-1625제주 서귀포시 대포로 16111:50 - 22:0021:00 라스트오더#서귀포맛집 #제주중문맛집#서귀포횟집#중문횟집#제주도횟집#중문맛집#제주횟집#제주도민맛집#제주오션뷰맛집#서귀포맛집추천#제주도맛집8시간',\n",
       " '2023-06-28',\n",
       " 0,\n",
       " '서귀포시  대포로  16111',\n",
       " ['#서귀포맛집',\n",
       "  '#제주중문맛집',\n",
       "  '#서귀포횟집',\n",
       "  '#중문횟집',\n",
       "  '#제주도횟집',\n",
       "  '#중문맛집',\n",
       "  '#제주횟집',\n",
       "  '#제주도민맛집',\n",
       "  '#제주오션뷰맛집',\n",
       "  '#서귀포맛집추천',\n",
       "  '#제주도맛집8시간']]"
      ]
     },
     "execution_count": 48,
     "metadata": {},
     "output_type": "execute_result"
    }
   ],
   "source": [
    "import re # RegularExpression 정규식 처리 모듈\n",
    "from bs4 import BeautifulSoup\n",
    "import unicodedata # 유니코드 데이터 처리 모듈\n",
    "\n",
    "def get_content(driver):\n",
    "    # 1. 데이터 가져오기\n",
    "    html = driver.page_source\n",
    "    soup = BeautifulSoup(html, 'html.parser')\n",
    "\n",
    "    # 2. 본문내용 찾아오기\n",
    "    try:\n",
    "        content = soup.select('div._a9zr')[0].text\n",
    "    except:\n",
    "        content = ''\n",
    "\n",
    "    # 3. 본문내용에서 해시태그 가져오기(정규식)\n",
    "    tags = re.findall(r'#[^\\s#,\\\\]+', content)\n",
    "\n",
    "    # 4. 작성일자 정보\n",
    "    data = soup.select('time._aaqe')[0]['datetime'][:10]\n",
    "\n",
    "    # 5. 좋아요수 가져오기\n",
    "    try:\n",
    "        like = int(soup.select('span.x193iq5w.xeuugli.x1fj9vlw.x13faqbe.x1vvkbs.xt0psk2.x1i0vuye.xvs91rp > span')[0].text)\n",
    "    except:\n",
    "        like = 0\n",
    "\n",
    "    # 6. 위치정보\n",
    "    # 정규식 학습필수\n",
    "    try:\n",
    "        regex = r'(\\w+[시,읍]\\s*)'\\\n",
    "                r'?(\\w+\\d*\\w*[로,리,길]\\s*)'\\\n",
    "                r'?(\\w*\\d+-?\\d*)?'\\\n",
    "\n",
    "        place = re.findall(regex, content)\n",
    "        for pl in place:\n",
    "            if pl[0] != '' and pl[1] != '' and pl[2] != '':\n",
    "                address = f'{pl[0]} {pl[1]} {pl[2]}'\n",
    "\n",
    "    except:\n",
    "        address = ''\n",
    "\n",
    "    # 7. 정보 저장\n",
    "    data = [content, data, like, address, tags]\n",
    "    return data\n",
    "\n",
    "get_content(driver)"
   ]
  },
  {
   "attachments": {},
   "cell_type": "markdown",
   "metadata": {},
   "source": [
    "##### 다음 게시글 열기"
   ]
  },
  {
   "cell_type": "code",
   "execution_count": 49,
   "metadata": {},
   "outputs": [],
   "source": [
    "def move_next(driver):\n",
    "    right = driver.find_element(By.CSS_SELECTOR, ('._aaqg._aaqh'))\n",
    "    right.find_element(By.XPATH, '//button')\n",
    "    right.click()\n",
    "    time.sleep(3)\n",
    "\n",
    "move_next(driver)"
   ]
  },
  {
   "attachments": {},
   "cell_type": "markdown",
   "metadata": {},
   "source": [
    "#### 자동 크롤링 구현"
   ]
  },
  {
   "cell_type": "code",
   "execution_count": 82,
   "metadata": {},
   "outputs": [],
   "source": [
    "# 모듈 임포트 생략\n",
    "\n",
    "driver = webdriver.Chrome()\n",
    "url = 'https://www.instagram.com'\n",
    "driver.get(url)\n",
    "time.sleep(5)\n",
    "# select_first_post(driver)\n",
    "# get_content(driver)\n",
    "# move_next(driver)"
   ]
  },
  {
   "cell_type": "code",
   "execution_count": 83,
   "metadata": {},
   "outputs": [],
   "source": [
    "def insta_login():\n",
    "    id = '01092038196'\n",
    "    pw = '비밀번호'\n",
    "    input_id = driver.find_elements(By.CSS_SELECTOR, '._aa4b._add6._ac4d')[0]\n",
    "    input_id.clear()\n",
    "    input_id.send_keys(id)\n",
    "    input_pw = driver.find_elements(By.CSS_SELECTOR, '._aa4b._add6._ac4d')[1]\n",
    "    input_pw.clear()\n",
    "    input_pw.send_keys(pw)\n",
    "    input_pw.submit()\n",
    "    time.sleep(2.0)\n",
    "    \n",
    "insta_login()"
   ]
  },
  {
   "cell_type": "code",
   "execution_count": 84,
   "metadata": {},
   "outputs": [],
   "source": [
    "# 알림설정 버튼클릭\n",
    "def btn_click():\n",
    "    alarm_btn = driver.find_element(By.CSS_SELECTOR, '._a9--._a9_0')\n",
    "    alarm_btn.click()\n",
    "btn_click()"
   ]
  },
  {
   "cell_type": "code",
   "execution_count": 66,
   "metadata": {},
   "outputs": [],
   "source": [
    "# 제주도 맛집 찾기 함수\n",
    "def insta_searching(word):\n",
    "    url = f'https://www.instagram.com/explore/tags/{word}'\n",
    "    return url"
   ]
  },
  {
   "cell_type": "code",
   "execution_count": 87,
   "metadata": {},
   "outputs": [
    {
     "name": "stdout",
     "output_type": "stream",
     "text": [
      "[['me_vonep(광고)제주도에서 쓰끼다시가 가장 잘나오고 서귀포에서 오션뷰로 회를 먹을수있는곳💜💜대포항 바로 앞에 큰 규모의 횟집에서 오션뷰로 즐길 수 있는 횟집으로,제주에서 횟감 하나만큼은 가장 싱싱하다고 자부할 수 있는 이곳!!제주도에서 스끼다시가 가장 잘 나오는 곳으로그때그때 가장 싱싱한 해산물만을 즐길 수 있는 맛집커플, 가족단위로 와서 힐링하기도 좋고대규모 좌석으로 대형버스 예약까지 많은 맛집!!👉🏻식사 후에는 바로 옆에 dp159카페에서 커피한잔까지 완벽한 맛집☕️☕️OCEAN VIEW 중문 큰갯물횟집0507-1360-1625제주 서귀포시 대포로 16111:50 - 22:0021:00 라스트오더#서귀포맛집 #제주중문맛집#서귀포횟집#중문횟집#제주도횟집#중문맛집#제주횟집#제주도민맛집#제주오션뷰맛집#서귀포맛집추천#제주도맛집1시간', '2023-06-29', 0, '서귀포시  대포로  16111', ['#서귀포맛집', '#제주중문맛집', '#서귀포횟집', '#중문횟집', '#제주도횟집', '#중문맛집', '#제주횟집', '#제주도민맛집', '#제주오션뷰맛집', '#서귀포맛집추천', '#제주도맛집1시간']], ['beli._azagi._u(광고)애월에서 가성비 좋은 흑돼지 전문점을 찾는다면 \"애월그때그집\"제주 그때그집의 애월본점 ! 💗 제주에서 12곳이나 지점이 있는 규모있는 흑돼지 전문점으로 한번 방문하면 또 생각나서 방문하는 애월그때그집\"제주 애월맛집에 가성비 좋은 흑돼지 전문점! 두툼한 흑돼지 오겹살이 일품으로 흑돼지 본연의 고소한 맛을 즐길수있는맛집같이 나오는 반찬들은 고기와는 다 잘어울리는데 그중❗❗ 김치전골은 꼭!!! 흑돼지와 함께 먹어야하는 찐조합❤❤❤❤👉🏻제주에 12곳이나 지점이있는 흑돼지 전문점으로서, 제주 어디서나 흑돼지가 생각나면 \"그때그집\"애월그때그집 본점064-799-9229제주 제주시 애월읍 애월해안로 97매일 11:00 - 22:00 (화요일 휴무)#제주애월맛집#애월맛집#제주도흑돼지맛집#제주흑돼지맛집#애월흑돼지#제주흑돼지#애월흑돼지맛집#제주도민추천맛집#제주흑돼지추천#애월항맛집#제주도맛집#애월해안도로맛집#애월읍맛집5시간', '2023-06-29', 0, '애월읍  애월해안로  97', ['#제주애월맛집', '#애월맛집', '#제주도흑돼지맛집', '#제주흑돼지맛집', '#애월흑돼지', '#제주흑돼지', '#애월흑돼지맛집', '#제주도민추천맛집', '#제주흑돼지추천', '#애월항맛집', '#제주도맛집', '#애월해안도로맛집', '#애월읍맛집5시간']]]\n"
     ]
    }
   ],
   "source": [
    "# 크롤링 시작하기\n",
    "driver = webdriver.Chrome()\n",
    "url = 'https://www.instagram.com'\n",
    "driver.get(url)\n",
    "time.sleep(5)\n",
    "insta_login()\n",
    "btn_click()\n",
    "word = '제주도맛집'\n",
    "url = insta_searching(word)\n",
    "driver.get(url)\n",
    "time.sleep(10.0)\n",
    "\n",
    "select_first_post(driver)\n",
    "\n",
    "result = []\n",
    "\n",
    "target = 5\n",
    "for i in range(target):\n",
    "    try:\n",
    "        data = get_content(driver)\n",
    "        result.append(data)\n",
    "        move_next(driver)\n",
    "    except:\n",
    "        time.sleep(2.0)\n",
    "        move_next(driver)\n",
    "\n",
    "print(result[:5])"
   ]
  }
 ],
 "metadata": {
  "kernelspec": {
   "display_name": "Python 3",
   "language": "python",
   "name": "python3"
  },
  "language_info": {
   "codemirror_mode": {
    "name": "ipython",
    "version": 3
   },
   "file_extension": ".py",
   "mimetype": "text/x-python",
   "name": "python",
   "nbconvert_exporter": "python",
   "pygments_lexer": "ipython3",
   "version": "3.11.4"
  },
  "orig_nbformat": 4,
  "vscode": {
   "interpreter": {
    "hash": "5238573367df39f7286bb46f9ff5f08f63a01a80960060ce41e3c79b190280fa"
   }
  }
 },
 "nbformat": 4,
 "nbformat_minor": 2
}
