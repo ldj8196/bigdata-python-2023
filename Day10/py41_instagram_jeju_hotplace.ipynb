{
 "cells": [
  {
   "attachments": {},
   "cell_type": "markdown",
   "metadata": {},
   "source": [
    "#### 제주도 핫플레이스 인스타그램에서 크롤링하기\n",
    "\n",
    "##### matplotlib 한글설정\n",
    "\n",
    "##### 셀레니움 설정"
   ]
  },
  {
   "cell_type": "code",
   "execution_count": 9,
   "metadata": {},
   "outputs": [],
   "source": [
    "import matplotlib\n",
    "from matplotlib import pyplot as plt\n",
    "# import matplotlib.pyplot as plt\n",
    "from matplotlib import font_manager, rc, rcParams\n",
    "import seaborn as sns\n",
    "\n",
    "font_path = 'C:/Windows/Fonts/malgun.ttf'\n",
    "font = font_manager.FontProperties(fname=font_path).get_name() # malgun\n",
    "rc('font', family=font)\n",
    "rcParams['axes.unicode_minus'] = False"
   ]
  },
  {
   "cell_type": "code",
   "execution_count": 25,
   "metadata": {},
   "outputs": [],
   "source": [
    "# 셀레니움\n",
    "# 모듈 임포트\n",
    "from selenium import webdriver\n",
    "\n",
    "driver = webdriver.Chrome()\n",
    "url = 'https://www.instagram.com/explore/tags/%EC%A0%9C%EC%A3%BC%EB%8F%84%EB%A7%9B%EC%A7%91/'\n",
    "driver.get(url)"
   ]
  },
  {
   "attachments": {},
   "cell_type": "markdown",
   "metadata": {},
   "source": [
    "##### 첫번째 게시글 찾아서 클릭하기"
   ]
  },
  {
   "cell_type": "code",
   "execution_count": 39,
   "metadata": {},
   "outputs": [],
   "source": [
    "from selenium.webdriver.common.by import By\n",
    "import time\n",
    "\n",
    "def select_first_post(driver):\n",
    "    first = driver.find_elements(By.CLASS_NAME, '_aagw')[0]\n",
    "    first.click()\n",
    "    time.sleep(3)\n",
    "\n",
    "select_first_post(driver)"
   ]
  },
  {
   "attachments": {},
   "cell_type": "markdown",
   "metadata": {},
   "source": [
    "##### 게시글 정보 가져오기"
   ]
  },
  {
   "cell_type": "code",
   "execution_count": 40,
   "metadata": {},
   "outputs": [
    {
     "data": {
      "text/plain": [
       "['neriestadogs(협찬) @cafe_the_light_jeju💗제주도에서 가장 핫한 제주카페💗 🐋오션뷰 카페 ✔카페더라이트❝ 성산일출봉과 바다를 한 눈에 볼 수 있는 뷰맛집 ❞………………《 🍮 제주 카페더라이트 》…………………📍 제주 서귀포시 성산읍 한도로 269 카페더라이트 📍⏰ 매일 9:00 ~ 19:00📞 064-784-0080……………………………………………………………………………카페 전면 오션뷰 통창으로바다를 느낄 수 있는 \"오션뷰카페\"우도와 성산일출봉이 보이는 \"루프탑 뷰맛집\"인생샷을 남길 수 있는 포토존까지😍휴양지 느낌 가득 , 제주 느낌 가득한\"야외좌석\"도 있어요❣1층 2층 루프탑까지 넓은 카페만큼넓은 주차장까지👍✔️ 대표 메뉴1 \"시그니처 라이트라떼(땅콩라떼)\"✔️ 대표 메뉴2 \"시그니처 제주아이스티\"✔️ 대표 메뉴3 \"한라봉 에이드\"✔️디저트 ,베이커리 엄마손맛 수제!!웰빙 프리미엄 재료로 제주 특산품 한라봉을 이용한 디저트 !! “한라봉 몽블랑 ” 당근케익 베이커리 등 🎂 커플,친구,가족들과 함께 아름다운 제주를 느끼며소중한 시간을 보낼 수 있는 곳 💕……………………………………………………………………………#제주여행 #제주카페 #성산일출봉카페 #제주카페추천 #제주루프탑카페 #제주가볼만한곳 #제주여행코스 #제주도날씨 #제주서귀포카페추천 #제주가볼만한곳 #제주데이트 #제주도카페 #제주도맛집 #제주도 #카페22분',\n",
       " '2023-06-30',\n",
       " 1063,\n",
       " '성산읍  한도로  269',\n",
       " ['#제주여행',\n",
       "  '#제주카페',\n",
       "  '#성산일출봉카페',\n",
       "  '#제주카페추천',\n",
       "  '#제주루프탑카페',\n",
       "  '#제주가볼만한곳',\n",
       "  '#제주여행코스',\n",
       "  '#제주도날씨',\n",
       "  '#제주서귀포카페추천',\n",
       "  '#제주가볼만한곳',\n",
       "  '#제주데이트',\n",
       "  '#제주도카페',\n",
       "  '#제주도맛집',\n",
       "  '#제주도',\n",
       "  '#카페22분']]"
      ]
     },
     "execution_count": 40,
     "metadata": {},
     "output_type": "execute_result"
    }
   ],
   "source": [
    "import re # RegularExpression 정규식 처리 모듈\n",
    "from bs4 import BeautifulSoup\n",
    "import unicodedata # 유니코드 데이터 처리 모듈\n",
    "\n",
    "def get_content(driver):\n",
    "    # 1. 데이터 가져오기\n",
    "    html = driver.page_source\n",
    "    soup = BeautifulSoup(html, 'html.parser')\n",
    "\n",
    "    # 2. 본문내용 찾아오기\n",
    "    try:\n",
    "        # content = soup.select('div._a9zr')[0].text\n",
    "        content = soup.select('div._a9zr')[0].get_text(separator='|')  # _a9zr은 추후 변경됨(인스타그램 정책)\n",
    "    except:\n",
    "        content = ''\n",
    "\n",
    "    # 3. 본문내용에서 해시태그 가져오기(정규식)\n",
    "    tags = re.findall(r'#[^\\s#,\\\\]+', content)\n",
    "\n",
    "    # 4. 작성일자 정보\n",
    "    data = soup.select('time._aaqe')[0]['datetime'][:10]\n",
    "\n",
    "    # 5. 좋아요수 가져오기\n",
    "    try:\n",
    "        like = int(soup.select('span.x193iq5w.xeuugli.x1fj9vlw.x13faqbe.x1vvkbs.xt0psk2.x1i0vuye.xvs91rp > span')[0].text)\n",
    "    except:\n",
    "        like = 0\n",
    "\n",
    "    # 6. 위치정보\n",
    "    # 정규식 학습필수\n",
    "    try:\n",
    "        regex = r'(\\w+[시,읍]\\s*)'\\\n",
    "                r'?(\\w+\\d*\\w*[로,리,길]\\s*)'\\\n",
    "                r'?(\\w*\\d+-?\\d*)?'\\\n",
    "\n",
    "        place = re.findall(regex, content)\n",
    "        for pl in place:\n",
    "            if pl[0] != '' and pl[1] != '' and pl[2] != '':\n",
    "                address = f'{pl[0]} {pl[1]} {pl[2]}'\n",
    "\n",
    "    except:\n",
    "        address = ''\n",
    "\n",
    "    # 7. 정보 저장\n",
    "    data = [content, data, like, address, tags]\n",
    "    return data\n",
    "\n",
    "get_content(driver)"
   ]
  },
  {
   "attachments": {},
   "cell_type": "markdown",
   "metadata": {},
   "source": [
    "##### 다음 게시글 열기"
   ]
  },
  {
   "cell_type": "code",
   "execution_count": 41,
   "metadata": {},
   "outputs": [],
   "source": [
    "def move_next(driver):\n",
    "    right = driver.find_element(By.CSS_SELECTOR, ('._aaqg._aaqh'))\n",
    "    right.find_element(By.XPATH, '//button')\n",
    "    right.click()\n",
    "    time.sleep(3)\n",
    "\n",
    "move_next(driver)"
   ]
  },
  {
   "attachments": {},
   "cell_type": "markdown",
   "metadata": {},
   "source": [
    "#### 자동 크롤링 구현"
   ]
  },
  {
   "cell_type": "code",
   "execution_count": 52,
   "metadata": {},
   "outputs": [],
   "source": [
    "# 모듈 임포트 생략\n",
    "\n",
    "driver = webdriver.Chrome()\n",
    "url = 'https://www.instagram.com'\n",
    "driver.get(url)\n",
    "time.sleep(5)\n",
    "# select_first_post(driver)\n",
    "# get_content(driver)\n",
    "# move_next(driver)"
   ]
  },
  {
   "cell_type": "code",
   "execution_count": 53,
   "metadata": {},
   "outputs": [],
   "source": [
    "def insta_login():\n",
    "    id = '01092038196'\n",
    "    pw = '비밀번호'\n",
    "    input_id = driver.find_elements(By.CSS_SELECTOR, '._aa4b._add6._ac4d')[0]\n",
    "    input_id.clear()\n",
    "    input_id.send_keys(id)\n",
    "    input_pw = driver.find_elements(By.CSS_SELECTOR, '._aa4b._add6._ac4d')[1]\n",
    "    input_pw.clear()\n",
    "    input_pw.send_keys(pw)\n",
    "    input_pw.submit()\n",
    "    time.sleep(2.0)\n",
    "    \n",
    "insta_login()"
   ]
  },
  {
   "cell_type": "code",
   "execution_count": 35,
   "metadata": {},
   "outputs": [],
   "source": [
    "# 알림설정 버튼클릭\n",
    "def btn_click():\n",
    "    alarm_btn = driver.find_element(By.CSS_SELECTOR, '._a9--._a9_0')\n",
    "    alarm_btn.click()\n",
    "btn_click()"
   ]
  },
  {
   "cell_type": "code",
   "execution_count": 38,
   "metadata": {},
   "outputs": [],
   "source": [
    "\n",
    "# 제주도 맛집 찾기 함수\n",
    "def insta_searching(word):\n",
    "    url = f'https://www.instagram.com/explore/tags/{word}'\n",
    "    return url\n",
    "\n",
    "driver.get(insta_searching('제주도맛집'))"
   ]
  },
  {
   "cell_type": "code",
   "execution_count": 48,
   "metadata": {},
   "outputs": [
    {
     "name": "stdout",
     "output_type": "stream",
     "text": [
      "1\n",
      "2\n",
      "3\n",
      "4\n",
      "5\n",
      "1\n"
     ]
    }
   ],
   "source": [
    "# 크롤링 시작하기\n",
    "driver = webdriver.Chrome()\n",
    "url = 'https://www.instagram.com'\n",
    "driver.get(url)\n",
    "time.sleep(5)\n",
    "\n",
    "insta_login()\n",
    "time.sleep(1)\n",
    "btn_click()\n",
    "\n",
    "word = '제주도맛집'\n",
    "\n",
    "url = insta_searching(word)\n",
    "driver.get(url)\n",
    "time.sleep(10.0)\n",
    "\n",
    "select_first_post(driver)\n",
    "\n",
    "result = []\n",
    "count = 0\n",
    "\n",
    "target = 5\n",
    "for i in range(target):\n",
    "    count += 1\n",
    "    try:\n",
    "        data = get_content(driver)\n",
    "        result.append(data)\n",
    "        move_next(driver)\n",
    "    except:\n",
    "        time.sleep(2.0)\n",
    "        move_next(driver)\n",
    "    print(count)\n",
    "\n",
    "print(len(result))"
   ]
  },
  {
   "cell_type": "code",
   "execution_count": 49,
   "metadata": {},
   "outputs": [],
   "source": [
    "import pandas as pd\n",
    "\n",
    "results_df = pd.DataFrame(result)\n",
    "results_df.columns = ['content','data','like','place','tags']\n",
    "results_df.to_excel('./1_crawling_jejudoHotplaces.xlsx', index=False)"
   ]
  }
 ],
 "metadata": {
  "kernelspec": {
   "display_name": "Python 3",
   "language": "python",
   "name": "python3"
  },
  "language_info": {
   "codemirror_mode": {
    "name": "ipython",
    "version": 3
   },
   "file_extension": ".py",
   "mimetype": "text/x-python",
   "name": "python",
   "nbconvert_exporter": "python",
   "pygments_lexer": "ipython3",
   "version": "3.11.4"
  },
  "orig_nbformat": 4,
  "vscode": {
   "interpreter": {
    "hash": "5238573367df39f7286bb46f9ff5f08f63a01a80960060ce41e3c79b190280fa"
   }
  }
 },
 "nbformat": 4,
 "nbformat_minor": 2
}
